{
  "nbformat": 4,
  "nbformat_minor": 0,
  "metadata": {
    "kernelspec": {
      "display_name": "Python 3",
      "language": "python",
      "name": "python3"
    },
    "language_info": {
      "codemirror_mode": {
        "name": "ipython",
        "version": 3
      },
      "file_extension": ".py",
      "mimetype": "text/x-python",
      "name": "python",
      "nbconvert_exporter": "python",
      "pygments_lexer": "ipython3",
      "version": "3.7.6"
    },
    "colab": {
      "name": "Akrem Yusuf Module1 Exercise.ipynb",
      "provenance": [],
      "collapsed_sections": []
    }
  },
  "cells": [
    {
      "cell_type": "markdown",
      "metadata": {
        "id": "Y1fKjC9WtgzM"
      },
      "source": [
        "## Questions"
      ]
    },
    {
      "cell_type": "markdown",
      "metadata": {
        "id": "sV7C4R61tgzS"
      },
      "source": [
        "1. What is a hardware?"
      ]
    },
    {
      "cell_type": "markdown",
      "metadata": {
        "id": "G2NjquprtgzV"
      },
      "source": [
        "The physical tool to run a computer"
      ]
    },
    {
      "cell_type": "markdown",
      "metadata": {
        "id": "s1prp1XMtgzW"
      },
      "source": [
        "2. What is a software?"
      ]
    },
    {
      "cell_type": "markdown",
      "metadata": {
        "id": "No2GfnbDtgzX"
      },
      "source": [
        "The program running the computer"
      ]
    },
    {
      "cell_type": "markdown",
      "metadata": {
        "id": "coFEHyzJtgzY"
      },
      "source": [
        "3. Convert 10011001 to a decimal number"
      ]
    },
    {
      "cell_type": "markdown",
      "metadata": {
        "id": "4azlJjZmtgzZ"
      },
      "source": [
        "10011001"
      ]
    },
    {
      "cell_type": "markdown",
      "metadata": {
        "id": "CSBfr8S-tgzb"
      },
      "source": [
        "4. Convert 11101100 to a decimal number"
      ]
    },
    {
      "cell_type": "markdown",
      "metadata": {
        "id": "AbOZqv6rtgzd"
      },
      "source": [
        "236"
      ]
    },
    {
      "cell_type": "markdown",
      "metadata": {
        "id": "CaWcS5p-tgze"
      },
      "source": [
        "5. Decode this secret message:\n",
        "01001100 01101111 01100111 01101001 01100011"
      ]
    },
    {
      "cell_type": "markdown",
      "metadata": {
        "id": "tPmXIIiAtgzf"
      },
      "source": [
        "Logic"
      ]
    },
    {
      "cell_type": "markdown",
      "metadata": {
        "id": "Gk4g4GHLtgzf"
      },
      "source": [
        "6. Identify and explain stages of Programming."
      ]
    },
    {
      "cell_type": "markdown",
      "metadata": {
        "id": "ioZ4fJLftgzg"
      },
      "source": [
        "First you have to define the problem. This requires you to identify, divide and regroup as necessary. Then you have to plan your solution. This requires IPO and algorithm. Then you have to code the program. This requires the use of a programming language. Then you need to test by doing a unit test(makes sure each code works), system test(makes sure the whole program works), and integration test(makes sure it works on all devices. Then you have to do maintenance. this requires you to do any bug fixes necessary, enhance the program, and document it."
      ]
    },
    {
      "cell_type": "markdown",
      "metadata": {
        "id": "sHNoBAwCtgzg"
      },
      "source": [
        "7. You need to write a program to compute total sales amount when sales tax is 5%. Identify IPO (inpt, process, output) for this program."
      ]
    },
    {
      "cell_type": "markdown",
      "metadata": {
        "id": "tQSv4nJgtgzh"
      },
      "source": [
        "Input: 5% sales tax\n",
        "\n",
        "Output: total sales amount\n",
        "\n",
        "Process: algorithm:\n",
        "\n",
        "tax_amount = sales_amount * 5%\n",
        "\n",
        "total_sales_amount = tax_amount + sales_amount"
      ]
    },
    {
      "cell_type": "markdown",
      "metadata": {
        "id": "EbeZ9ITrtgzh"
      },
      "source": [
        "8. Identify IPO for converting liters to US gallons."
      ]
    },
    {
      "cell_type": "markdown",
      "metadata": {
        "id": "s6IGjhpntgzi"
      },
      "source": [
        "Input: liters\n",
        "\n",
        "Output: US gallons\n",
        "\n",
        "Process: algorithm:\n",
        "\n",
        "liters * .26 US gallons/liter = US gallons"
      ]
    },
    {
      "cell_type": "markdown",
      "metadata": {
        "id": "5D-gTPPrtgzi"
      },
      "source": [
        "9. Identify IPO for computing a worker's pay. What information/data do you need?"
      ]
    },
    {
      "cell_type": "markdown",
      "metadata": {
        "id": "jAlbjCFRtgzi"
      },
      "source": [
        "Input: Hourly rate, number of hours wworked, overtime hours worked, overtime rate\n",
        "\n",
        "Output: worker's pay\n",
        "\n",
        "Process: algorithm:\n",
        "\n",
        "(hourly_rate * hours_worked) + (overtime_hours * overtime_rate) = worker's_pay"
      ]
    }
  ]
}