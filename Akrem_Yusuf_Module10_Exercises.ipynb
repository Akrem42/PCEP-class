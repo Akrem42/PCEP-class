{
  "nbformat": 4,
  "nbformat_minor": 0,
  "metadata": {
    "kernelspec": {
      "display_name": "Python 3",
      "language": "python",
      "name": "python3"
    },
    "language_info": {
      "codemirror_mode": {
        "name": "ipython",
        "version": 3
      },
      "file_extension": ".py",
      "mimetype": "text/x-python",
      "name": "python",
      "nbconvert_exporter": "python",
      "pygments_lexer": "ipython3",
      "version": "3.7.6"
    },
    "colab": {
      "name": "Module10 Exercises.ipynb",
      "provenance": [],
      "collapsed_sections": []
    }
  },
  "cells": [
    {
      "cell_type": "markdown",
      "metadata": {
        "id": "pAlT2jEWQL-T"
      },
      "source": [
        "### Exercise 1\n",
        "Create a file called <b>exercise1.txt</b> and write following lines:\n",
        "\n",
        "    Twinkle, twinkle, little star,\n",
        "    How I wonder what you are.\n",
        "    Up above the world so high,\n",
        "    Like a diamond in the sky.\n",
        "    \n",
        "    \n",
        "Don't forget to close the file.        "
      ]
    },
    {
      "cell_type": "code",
      "metadata": {
        "id": "jEjBW5NeQL-Z"
      },
      "source": [
        "with open(\"exercise1.txt\", \"w+\") as fptr  :\n",
        "  fptr.write(\"Twinkle, twinkle, little star,\\n\")\n",
        "  fptr.write(\"How I wonder what you are.\\n\")\n",
        "  fptr.write(\"Up above the world so high,\\n\")\n",
        "  fptr.write(\"Like a diamond in the sky.\\n\")"
      ],
      "execution_count": 1,
      "outputs": []
    },
    {
      "cell_type": "code",
      "metadata": {
        "id": "f3YnRgwdQL-b"
      },
      "source": [
        ""
      ],
      "execution_count": null,
      "outputs": []
    },
    {
      "cell_type": "markdown",
      "metadata": {
        "id": "_XUwW6UWQL-b"
      },
      "source": [
        "### Exercise 2\n",
        "Append following lines to a file called <b>exercise1.txt</b>:\n",
        "\n",
        "    Twinkle, twinkle, little star,\n",
        "    How I wonder what you are.\n",
        "    \n",
        "Don't forget to close the file.    "
      ]
    },
    {
      "cell_type": "code",
      "metadata": {
        "id": "QLrSGh99QL-c"
      },
      "source": [
        "with open(\"exercise1.txt\", \"a+\") as fptr  :\n",
        "      fptr.write(\"Twinkle, twinkle, little star, \\n\")\n",
        "      fptr.write(\"How I wonder what you are.\\n\")"
      ],
      "execution_count": 2,
      "outputs": []
    },
    {
      "cell_type": "code",
      "metadata": {
        "id": "nYPVwcSkQL-d"
      },
      "source": [
        ""
      ],
      "execution_count": null,
      "outputs": []
    },
    {
      "cell_type": "markdown",
      "metadata": {
        "id": "mJaBeGdKQL-e"
      },
      "source": [
        "### Exercise 3\n",
        "Read a file, <b>exercise1.txt</b> and print the content of the file using a loop.\n",
        "    \n",
        "Don't forget to close the file.    "
      ]
    },
    {
      "cell_type": "code",
      "metadata": {
        "colab": {
          "base_uri": "https://localhost:8080/"
        },
        "id": "d-gQQ2m0QL-f",
        "outputId": "0196f7cc-0c52-4b86-ad43-a0a0892bef4f"
      },
      "source": [
        "with open(\"exercise1.txt\", \"r\") as fptr   :\n",
        "      line = fptr.readline()\n",
        "      while line : \n",
        "            print(line, end='')\n",
        "            line = fptr.readline()"
      ],
      "execution_count": 3,
      "outputs": [
        {
          "output_type": "stream",
          "text": [
            "Twinkle, twinkle, little star,\n",
            "How I wonder what you are.\n",
            "Up above the world so high,\n",
            "Like a diamond in the sky.\n",
            "Twinkle, twinkle, little star, \n",
            "How I wonder what you are.\n"
          ],
          "name": "stdout"
        }
      ]
    },
    {
      "cell_type": "code",
      "metadata": {
        "id": "P5Rtog-PQL-g"
      },
      "source": [
        ""
      ],
      "execution_count": null,
      "outputs": []
    },
    {
      "cell_type": "markdown",
      "metadata": {
        "id": "jMQ76wkVQL-h"
      },
      "source": [
        "### Exercise 4\n",
        "Read line number 4 from the file, <b>exercise1.txt</b>."
      ]
    },
    {
      "cell_type": "code",
      "metadata": {
        "colab": {
          "base_uri": "https://localhost:8080/"
        },
        "id": "R6gf_oSsQL-h",
        "outputId": "72388376-9da9-48d8-9f82-049a00844fa6"
      },
      "source": [
        "with open(\"exercise1.txt\", \"r\") as fptr   :\n",
        "      line = fptr.readlines()\n",
        "      print(line [3])"
      ],
      "execution_count": 7,
      "outputs": [
        {
          "output_type": "stream",
          "text": [
            "Like a diamond in the sky.\n",
            "\n"
          ],
          "name": "stdout"
        }
      ]
    },
    {
      "cell_type": "code",
      "metadata": {
        "id": "cQtO19LVQL-i"
      },
      "source": [
        ""
      ],
      "execution_count": null,
      "outputs": []
    },
    {
      "cell_type": "markdown",
      "metadata": {
        "id": "B6Bo8F6ZQL-i"
      },
      "source": [
        "### Exercise 5\n",
        "Write a program that asks the user for a number and a file name, then prints out the number from 1 to that number, one one each line to a file named using user's input.\n",
        "Then, read that file and print out its content."
      ]
    },
    {
      "cell_type": "code",
      "metadata": {
        "colab": {
          "base_uri": "https://localhost:8080/"
        },
        "id": "yRYvhxiHQL-j",
        "outputId": "d96e7420-129c-4582-c2c4-5ae19e489f78"
      },
      "source": [
        "max_no = int(input(\"Enter a number: \"))\n",
        "file_name = input(\"Enter a file name: \")\n",
        "\n",
        "with open(file_name, 'w') as fptr:\n",
        "    for i in range(1, max_no+1) :\n",
        "        fptr.write(str(i)+'\\n')\n",
        "        \n",
        "        \n",
        "with open(file_name, 'r') as fptr :\n",
        "    print(fptr.read())"
      ],
      "execution_count": 10,
      "outputs": [
        {
          "output_type": "stream",
          "text": [
            "Enter a number: 3\n",
            "Enter a file name: Akrem_Example\n",
            "1\n",
            "2\n",
            "3\n",
            "\n"
          ],
          "name": "stdout"
        }
      ]
    },
    {
      "cell_type": "code",
      "metadata": {
        "id": "TGD3nHHjQL-j"
      },
      "source": [
        ""
      ],
      "execution_count": null,
      "outputs": []
    },
    {
      "cell_type": "markdown",
      "metadata": {
        "id": "SvH9GNNbQL-j"
      },
      "source": [
        "### Exercise 6\n",
        "Merge a file from exercise 5 and <b>exercise1.txt</b> to a file called <b>merged.txt</b>. Then, prin out the content of <b>merged.txt</b> before closing the file."
      ]
    },
    {
      "cell_type": "code",
      "metadata": {
        "colab": {
          "base_uri": "https://localhost:8080/"
        },
        "id": "uPbP12pHQL-k",
        "outputId": "f8a8b3ae-f981-4dcb-db91-4311937cc106"
      },
      "source": [
        "with open(file_name, 'r') as fptr1:\n",
        "    with open('exercise1.txt', 'r') as fptr2:\n",
        "        with open('merged.txt', 'w+') as out_fptr :\n",
        "            data1 = fptr1.read()\n",
        "            data2 = fptr2.read()\n",
        "            out_fptr.write(data1)\n",
        "            out_fptr.write(data2)\n",
        "            \n",
        "            out_fptr.seek(0)\n",
        "            print(out_fptr.read())"
      ],
      "execution_count": 11,
      "outputs": [
        {
          "output_type": "stream",
          "text": [
            "1\n",
            "2\n",
            "3\n",
            "Twinkle, twinkle, little star,\n",
            "How I wonder what you are.\n",
            "Up above the world so high,\n",
            "Like a diamond in the sky.\n",
            "Twinkle, twinkle, little star, \n",
            "How I wonder what you are.\n",
            "\n"
          ],
          "name": "stdout"
        }
      ]
    },
    {
      "cell_type": "code",
      "metadata": {
        "id": "r9j7vrjmQL-k"
      },
      "source": [
        ""
      ],
      "execution_count": null,
      "outputs": []
    }
  ]
}