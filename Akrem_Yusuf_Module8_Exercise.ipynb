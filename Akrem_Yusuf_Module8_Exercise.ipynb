{
  "nbformat": 4,
  "nbformat_minor": 0,
  "metadata": {
    "kernelspec": {
      "display_name": "Python 3",
      "language": "python",
      "name": "python3"
    },
    "language_info": {
      "codemirror_mode": {
        "name": "ipython",
        "version": 3
      },
      "file_extension": ".py",
      "mimetype": "text/x-python",
      "name": "python",
      "nbconvert_exporter": "python",
      "pygments_lexer": "ipython3",
      "version": "3.7.6"
    },
    "colab": {
      "name": "Module8 Exercise.ipynb",
      "provenance": [],
      "collapsed_sections": []
    }
  },
  "cells": [
    {
      "cell_type": "markdown",
      "metadata": {
        "id": "FOiIAGMMEvCP"
      },
      "source": [
        "### Exercise 1\n",
        "Create a multiplication table from 1 to 10"
      ]
    },
    {
      "cell_type": "code",
      "metadata": {
        "colab": {
          "base_uri": "https://localhost:8080/"
        },
        "id": "F_wD_8PsEvCQ",
        "outputId": "712a7f4d-6890-4730-db8d-e7a8babe3d26"
      },
      "source": [
        "num = 10\n",
        "\n",
        "for i in range(1, 11) :\n",
        "  print(num, 'x', i, '=', num*i)"
      ],
      "execution_count": 4,
      "outputs": [
        {
          "output_type": "stream",
          "text": [
            "10 x 1 = 10\n",
            "10 x 2 = 20\n",
            "10 x 3 = 30\n",
            "10 x 4 = 40\n",
            "10 x 5 = 50\n",
            "10 x 6 = 60\n",
            "10 x 7 = 70\n",
            "10 x 8 = 80\n",
            "10 x 9 = 90\n",
            "10 x 10 = 100\n"
          ],
          "name": "stdout"
        }
      ]
    },
    {
      "cell_type": "markdown",
      "metadata": {
        "id": "DhDkO3FJEvCQ"
      },
      "source": [
        "### Exercise 2\n",
        "Write a program to find the Fibonacci numbers where each number is the sum of the two preceding ones, starting from 0 and 1. \n",
        "\n",
        "    e.g.\n",
        "    0, 1, 1, 2, 3, 5, 8, ...\n",
        "    \n",
        "Ask a user to enter a number of sequence. Generate the Fibonacci numbers in to a list. Then, print out the list.  \n",
        "\n",
        "The output should look something like this:\n",
        "\n",
        "    How many Fibonacci numbers would you like to generate? 10    \n",
        "    10 Fibonacci numbers are [0, 1, 1, 2, 3, 5, 8, 13, 21, 34]."
      ]
    },
    {
      "cell_type": "code",
      "metadata": {
        "colab": {
          "base_uri": "https://localhost:8080/"
        },
        "id": "ZwJDnJ68EvCR",
        "outputId": "c0418b16-fc7f-4edb-9808-e2e398824686"
      },
      "source": [
        "xterms = int(input(\"How many terms? \"))\n",
        "\n",
        "n1, n2 = 0, 1\n",
        "count = 0\n",
        "\n",
        "if xterms <= 0:\n",
        "   print(\"Please enter a positive integer\")\n",
        "\n",
        "elif xterms == 1:\n",
        "   print(\"Fibonacci sequence upto\",xterms,\":\")\n",
        "   print(n1)\n",
        "\n",
        "else:\n",
        "   print(\"Fibonacci sequence:\")\n",
        "   while count < xterms:\n",
        "       print(n1)\n",
        "       xth = n1 + n2\n",
        "       \n",
        "       n1 = n2\n",
        "       n2 = xth\n",
        "       count += 1"
      ],
      "execution_count": 5,
      "outputs": [
        {
          "output_type": "stream",
          "text": [
            "How many terms? 5\n",
            "Fibonacci sequence:\n",
            "0\n",
            "1\n",
            "1\n",
            "2\n",
            "3\n"
          ],
          "name": "stdout"
        }
      ]
    },
    {
      "cell_type": "code",
      "metadata": {
        "id": "xsCkJEufEvCR"
      },
      "source": [
        ""
      ],
      "execution_count": null,
      "outputs": []
    }
  ]
}