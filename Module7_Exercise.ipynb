{
  "nbformat": 4,
  "nbformat_minor": 0,
  "metadata": {
    "kernelspec": {
      "display_name": "Python 3",
      "language": "python",
      "name": "python3"
    },
    "language_info": {
      "codemirror_mode": {
        "name": "ipython",
        "version": 3
      },
      "file_extension": ".py",
      "mimetype": "text/x-python",
      "name": "python",
      "nbconvert_exporter": "python",
      "pygments_lexer": "ipython3",
      "version": "3.7.6"
    },
    "colab": {
      "name": "Module7 Exercise.ipynb",
      "provenance": [],
      "collapsed_sections": []
    }
  },
  "cells": [
    {
      "cell_type": "markdown",
      "metadata": {
        "id": "t88yxNEK-bcQ"
      },
      "source": [
        "### Exercise 1\n",
        "Ask a user for 5 names and place each one in to a list called <i>names</i>. Then, print <i>names</i>."
      ]
    },
    {
      "cell_type": "code",
      "metadata": {
        "colab": {
          "base_uri": "https://localhost:8080/"
        },
        "id": "8dxrw9qJ-bcV",
        "outputId": "2e2691ff-1173-4448-8380-fcb0ddb968d0"
      },
      "source": [
        "names = []\n",
        "\n",
        "names.append(input(\"Enter a name: \"))\n",
        "names.append(input(\"Enter a name: \"))\n",
        "names.append(input(\"Enter a name: \"))\n",
        "names.append(input(\"Enter a name: \"))\n",
        "names.append(input(\"Enter a name: \"))\n",
        "\n",
        "print(names)"
      ],
      "execution_count": 1,
      "outputs": [
        {
          "output_type": "stream",
          "text": [
            "Enter a name: Akrem\n",
            "Enter a name: Bob\n",
            "Enter a name: Chris\n",
            "Enter a name: Steve\n",
            "Enter a name: Jeff\n",
            "['Akrem', 'Bob', 'Chris', 'Steve', 'Jeff']\n"
          ],
          "name": "stdout"
        }
      ]
    },
    {
      "cell_type": "markdown",
      "metadata": {
        "id": "RSqM7qzJ-bcX"
      },
      "source": [
        "### Exercise 2\n",
        "Print out a randomly selected name in the names list from exercise 1."
      ]
    },
    {
      "cell_type": "code",
      "metadata": {
        "colab": {
          "base_uri": "https://localhost:8080/"
        },
        "id": "KC-seWJL-bcZ",
        "outputId": "f0f96111-12c6-4093-a39c-349aaec326f5"
      },
      "source": [
        "import random as rand\n",
        "\n",
        "\n",
        "index = rand.randint(0,4)\n",
        "print(names[index])"
      ],
      "execution_count": 3,
      "outputs": [
        {
          "output_type": "stream",
          "text": [
            "Steve\n"
          ],
          "name": "stdout"
        }
      ]
    },
    {
      "cell_type": "markdown",
      "metadata": {
        "id": "jqzHpHhj-bca"
      },
      "source": [
        "### Exercise 3: \n",
        "Fix bugs in the next cell.  It is trying to create a list for even numbers between two numbers provided by a user.\n"
      ]
    },
    {
      "cell_type": "code",
      "metadata": {
        "colab": {
          "base_uri": "https://localhost:8080/"
        },
        "id": "YhH932XK-bcb",
        "outputId": "a98524a0-6f2b-478a-f77d-7623ebf15695"
      },
      "source": [
        "no1 = int(input(\"Enter a starting number: \"))\n",
        "no2 = int(input(\"Enter an ending number: \"))\n",
        "\n",
        "numbers = []\n",
        "evens = []\n",
        "\n",
        "for i in range(no1, no2+1) :\n",
        "    numbers.append(i) \n",
        "    if (i%2 == 0)  :\n",
        "        evens.append(i)\n",
        "    \n",
        "print(numbers)    \n",
        "print(evens)"
      ],
      "execution_count": 20,
      "outputs": [
        {
          "output_type": "stream",
          "text": [
            "Enter a starting number: 1\n",
            "Enter an ending number: 20\n",
            "[1, 2, 3, 4, 5, 6, 7, 8, 9, 10, 11, 12, 13, 14, 15, 16, 17, 18, 19, 20]\n",
            "[2, 4, 6, 8, 10, 12, 14, 16, 18, 20]\n"
          ],
          "name": "stdout"
        }
      ]
    },
    {
      "cell_type": "markdown",
      "metadata": {
        "id": "RumBzuQk-bcd"
      },
      "source": [
        "### Exercise 4\n",
        "Finish writing a program to generate 10 random numbers between 1 and 100 and save it to a list.\n",
        "Finally, print out the original numbers followed by the smallest, largest, and average number."
      ]
    },
    {
      "cell_type": "code",
      "metadata": {
        "colab": {
          "base_uri": "https://localhost:8080/"
        },
        "id": "qrw9zbo6-bcf",
        "outputId": "110ea11a-fee0-46a7-bf48-d669b7b28928"
      },
      "source": [
        "import random as rand\n",
        "\n",
        "numbers = []\n",
        "total = 0\n",
        "\n",
        "for i in range(1, 11) :\n",
        "    numb = rand.randint(1, 100)\n",
        "    total += numb\n",
        "    numbers.append(numb)\n",
        "\n",
        "    \n",
        "# some code needed here to find the smallest, largest, and average number\n",
        "\n",
        "org_numbs = numbers.copy()\n",
        "numbers.sort()\n",
        "avg = total / 10\n",
        "largest = numbers [-1]\n",
        "smallest = numbers [0]\n",
        "\n",
        "\n",
        "print(f\"Org Numbers are {org_numbs}\")\n",
        "print(f\"Sorted numbers are {numbers}\")\n",
        "print(f\"Largest number is {largest}\")\n",
        "print(f\"Smallest number is {smallest}\")\n",
        "print(f\"Average is {avg}\")"
      ],
      "execution_count": 15,
      "outputs": [
        {
          "output_type": "stream",
          "text": [
            "Org Numbers are [90, 17, 52, 86, 55, 56, 7, 71, 94, 30]\n",
            "Sorted numbers are [7, 17, 30, 52, 55, 56, 71, 86, 90, 94]\n",
            "Largest number is 94\n",
            "Smallest number is 7\n",
            "Average is 55.8\n"
          ],
          "name": "stdout"
        }
      ]
    },
    {
      "cell_type": "markdown",
      "metadata": {
        "id": "r44eWzCh-bch"
      },
      "source": [
        "### Exercise 5\n",
        "\n",
        "Write a function called <b>draw_triangle()</b> to draw a right triangle where the base of the triangle is the number passed in as an arguement. Call <b>draw_triangle()</b> to show it works.\n",
        "\n",
        "e.g. <b>draw_triangle(7)</b> draws as below:\n",
        "\n",
        "    *\n",
        "    **\n",
        "    ***\n",
        "    ****\n",
        "    *****\n",
        "    ******\n",
        "    *******\n"
      ]
    },
    {
      "cell_type": "code",
      "metadata": {
        "id": "nORfuCQS-bcj"
      },
      "source": [
        "# write code for draw_triangle() function\n",
        "\n",
        "def draw_triangle(base) :\n",
        "  for i in range(1, base+1) :\n",
        "      print(i * \"*\")"
      ],
      "execution_count": 19,
      "outputs": []
    },
    {
      "cell_type": "code",
      "metadata": {
        "colab": {
          "base_uri": "https://localhost:8080/"
        },
        "id": "GqkHLVZm-bcl",
        "outputId": "f50da0bc-88d4-4e08-e738-34812b34d8a0"
      },
      "source": [
        "base = int(input(\"Enter a number: \"))\n",
        "\n",
        "draw_triangle(base)"
      ],
      "execution_count": 21,
      "outputs": [
        {
          "output_type": "stream",
          "text": [
            "Enter a number: 5\n",
            "*\n",
            "**\n",
            "***\n",
            "****\n",
            "*****\n"
          ],
          "name": "stdout"
        }
      ]
    }
  ]
}