{
  "nbformat": 4,
  "nbformat_minor": 0,
  "metadata": {
    "kernelspec": {
      "display_name": "Python 3",
      "language": "python",
      "name": "python3"
    },
    "language_info": {
      "codemirror_mode": {
        "name": "ipython",
        "version": 3
      },
      "file_extension": ".py",
      "mimetype": "text/x-python",
      "name": "python",
      "nbconvert_exporter": "python",
      "pygments_lexer": "ipython3",
      "version": "3.7.6"
    },
    "colab": {
      "name": "Module3 Exercise.ipynb",
      "provenance": [],
      "collapsed_sections": []
    }
  },
  "cells": [
    {
      "cell_type": "markdown",
      "metadata": {
        "id": "G_QYfRZrMUNp"
      },
      "source": [
        "1. Print cookies and milk are a great dessert."
      ]
    },
    {
      "cell_type": "code",
      "metadata": {
        "colab": {
          "base_uri": "https://localhost:8080/"
        },
        "id": "beyUgzrFMUNu",
        "outputId": "cbf5177e-21c5-4724-f9e5-609e19fbc784"
      },
      "source": [
        "print(\"cookies and milk are a great dessert.\")"
      ],
      "execution_count": 7,
      "outputs": [
        {
          "output_type": "stream",
          "text": [
            "cookies and milk are a great dessert.\n"
          ],
          "name": "stdout"
        }
      ]
    },
    {
      "cell_type": "markdown",
      "metadata": {
        "id": "2fSe-ymkMUNw"
      },
      "source": [
        "2. Print out your favorite color and above the code, comment what you are doing."
      ]
    },
    {
      "cell_type": "code",
      "metadata": {
        "colab": {
          "base_uri": "https://localhost:8080/"
        },
        "id": "QjpRYoS7MUNy",
        "outputId": "eb58afeb-13ff-4af9-85ab-2cb732a9d521"
      },
      "source": [
        "# Write to get your favorite color\n",
        "print(\"Blue\")"
      ],
      "execution_count": 16,
      "outputs": [
        {
          "output_type": "stream",
          "text": [
            "Blue\n"
          ],
          "name": "stdout"
        }
      ]
    },
    {
      "cell_type": "markdown",
      "metadata": {
        "id": "cJ0rkKYAMUNy"
      },
      "source": [
        "3. Print out your favority color again and add an in-line comment."
      ]
    },
    {
      "cell_type": "code",
      "metadata": {
        "colab": {
          "base_uri": "https://localhost:8080/"
        },
        "id": "qiujzfDGMUN0",
        "outputId": "136dcb5f-5667-4670-808e-45ff48b9b967"
      },
      "source": [
        "print(\"Blue\") #Write your favorite color"
      ],
      "execution_count": 17,
      "outputs": [
        {
          "output_type": "stream",
          "text": [
            "Blue\n"
          ],
          "name": "stdout"
        }
      ]
    },
    {
      "cell_type": "markdown",
      "metadata": {
        "id": "z7-Fsu0oMUN1"
      },
      "source": [
        "4. Print the sumation of numbers 1 to 10"
      ]
    },
    {
      "cell_type": "code",
      "metadata": {
        "colab": {
          "base_uri": "https://localhost:8080/"
        },
        "id": "pv-6qL6LMUN3",
        "outputId": "94fea6df-75d8-415d-da2e-66396a66c555"
      },
      "source": [
        "print(1+2+3+4+5+6+7+8+9+10)"
      ],
      "execution_count": 6,
      "outputs": [
        {
          "output_type": "stream",
          "text": [
            "55\n"
          ],
          "name": "stdout"
        }
      ]
    },
    {
      "cell_type": "markdown",
      "metadata": {
        "id": "klWfVW18MUN5"
      },
      "source": [
        "5. Print what 6 to the 7th power is."
      ]
    },
    {
      "cell_type": "code",
      "metadata": {
        "colab": {
          "base_uri": "https://localhost:8080/"
        },
        "id": "0Eg5OeWPMUN7",
        "outputId": "c4909d55-f79c-45b6-ff2c-b0159273eeec"
      },
      "source": [
        "print(6**7)"
      ],
      "execution_count": 20,
      "outputs": [
        {
          "output_type": "stream",
          "text": [
            "279936\n"
          ],
          "name": "stdout"
        }
      ]
    },
    {
      "cell_type": "markdown",
      "metadata": {
        "id": "RSU_YGEyMUN8"
      },
      "source": [
        "6. Print the remainder of 100 divided by 11. "
      ]
    },
    {
      "cell_type": "code",
      "metadata": {
        "id": "mwNMbN41MUN9"
      },
      "source": [
        ""
      ],
      "execution_count": null,
      "outputs": []
    },
    {
      "cell_type": "markdown",
      "metadata": {
        "id": "mGJG2mcoMUN-"
      },
      "source": [
        "7. What is the result of \"Python\" + \"1\""
      ]
    },
    {
      "cell_type": "code",
      "metadata": {
        "colab": {
          "base_uri": "https://localhost:8080/",
          "height": 35
        },
        "id": "nhGX6UILMUN_",
        "outputId": "8e1c299e-b30b-4ca3-bdda-752a4952f2e8"
      },
      "source": [
        "\"Python\"+\"1\""
      ],
      "execution_count": 18,
      "outputs": [
        {
          "output_type": "execute_result",
          "data": {
            "application/vnd.google.colaboratory.intrinsic+json": {
              "type": "string"
            },
            "text/plain": [
              "'Python1'"
            ]
          },
          "metadata": {},
          "execution_count": 18
        }
      ]
    },
    {
      "cell_type": "markdown",
      "metadata": {
        "id": "1XMoe2owMUN_"
      },
      "source": [
        "8. Print out 100 divided by 5"
      ]
    },
    {
      "cell_type": "code",
      "metadata": {
        "colab": {
          "base_uri": "https://localhost:8080/"
        },
        "id": "uv5owBsTMUOA",
        "outputId": "5473dc7a-a37f-437f-db1f-fbffcd869d00"
      },
      "source": [
        "print(100/5)"
      ],
      "execution_count": 21,
      "outputs": [
        {
          "output_type": "stream",
          "text": [
            "20.0\n"
          ],
          "name": "stdout"
        }
      ]
    },
    {
      "cell_type": "markdown",
      "metadata": {
        "id": "syj1hJB3MUOA"
      },
      "source": [
        "9. What is the different between 10/4 and 10//4?  Print out the result"
      ]
    },
    {
      "cell_type": "code",
      "metadata": {
        "colab": {
          "base_uri": "https://localhost:8080/"
        },
        "id": "6mPQeSxiMUOB",
        "outputId": "09fca25a-d2e9-4c84-db6b-a727cc0793fb"
      },
      "source": [
        "numb1=10/4\n",
        "numb2=10//4\n",
        "print(numb1)\n",
        "print(numb2)\n",
        "numb1-numb2"
      ],
      "execution_count": 25,
      "outputs": [
        {
          "output_type": "stream",
          "text": [
            "2.5\n",
            "2\n"
          ],
          "name": "stdout"
        },
        {
          "output_type": "execute_result",
          "data": {
            "text/plain": [
              "0.5"
            ]
          },
          "metadata": {},
          "execution_count": 25
        }
      ]
    },
    {
      "cell_type": "markdown",
      "metadata": {
        "id": "xFh6O9fUMUOC"
      },
      "source": [
        "10. Create a variable named foo that stores a string value."
      ]
    },
    {
      "cell_type": "code",
      "metadata": {
        "id": "Fd8PeTbKMUOC"
      },
      "source": [
        "foo = \"Akrem\""
      ],
      "execution_count": 26,
      "outputs": []
    },
    {
      "cell_type": "markdown",
      "metadata": {
        "id": "y-TWniamMUOD"
      },
      "source": [
        "11. Print foo variable"
      ]
    },
    {
      "cell_type": "code",
      "metadata": {
        "colab": {
          "base_uri": "https://localhost:8080/"
        },
        "id": "HqNC-BDBMUOD",
        "outputId": "d0d36a55-9262-4281-c0cb-7cd45ebcd5ec"
      },
      "source": [
        "print(foo)"
      ],
      "execution_count": 27,
      "outputs": [
        {
          "output_type": "stream",
          "text": [
            "Akrem\n"
          ],
          "name": "stdout"
        }
      ]
    },
    {
      "cell_type": "markdown",
      "metadata": {
        "id": "WIxes39QMUOE"
      },
      "source": [
        "12. Create a variable called height and store your height value there.\n",
        "Print a sentence describing your height and use the variable in the sentence as well."
      ]
    },
    {
      "cell_type": "code",
      "metadata": {
        "colab": {
          "base_uri": "https://localhost:8080/"
        },
        "id": "Goru0b9oMUOE",
        "outputId": "d0a9756f-4605-44f3-df2e-d94d736fa8ed"
      },
      "source": [
        "height = \"6'1\\\"\"\n",
        "print(\"I am\", height, \"tall.\")"
      ],
      "execution_count": 15,
      "outputs": [
        {
          "output_type": "stream",
          "text": [
            "I am 6'1\" tall.\n"
          ],
          "name": "stdout"
        }
      ]
    },
    {
      "cell_type": "markdown",
      "metadata": {
        "id": "vVS3bnroMUOF"
      },
      "source": [
        "13. Concate two strings together using variables and print out the result"
      ]
    },
    {
      "cell_type": "code",
      "metadata": {
        "colab": {
          "base_uri": "https://localhost:8080/",
          "height": 35
        },
        "id": "uI9dumgdMUOF",
        "outputId": "c61f4306-4925-4a3f-9d4e-6fb295113396"
      },
      "source": [
        "\"Akrem\"+\"Akrem\""
      ],
      "execution_count": 30,
      "outputs": [
        {
          "output_type": "execute_result",
          "data": {
            "application/vnd.google.colaboratory.intrinsic+json": {
              "type": "string"
            },
            "text/plain": [
              "'AkremAkrem'"
            ]
          },
          "metadata": {},
          "execution_count": 30
        }
      ]
    },
    {
      "cell_type": "markdown",
      "metadata": {
        "id": "lXGjHOfAMUOF"
      },
      "source": [
        "14. Use the two different quotes in a string and print out the sentence"
      ]
    },
    {
      "cell_type": "code",
      "metadata": {
        "colab": {
          "base_uri": "https://localhost:8080/"
        },
        "id": "o1WJhSQVMUOG",
        "outputId": "a2ebf358-71c2-46d0-9127-3ca2a32c2d88"
      },
      "source": [
        "print('\"My name is Akrem.\"')"
      ],
      "execution_count": 34,
      "outputs": [
        {
          "output_type": "stream",
          "text": [
            "\"My name is Akrem.\"\n"
          ],
          "name": "stdout"
        }
      ]
    },
    {
      "cell_type": "markdown",
      "metadata": {
        "id": "RxgSR4eGMUOG"
      },
      "source": [
        "15. Print out Hello World! 7 times each on a new line using only one line of code."
      ]
    },
    {
      "cell_type": "code",
      "metadata": {
        "colab": {
          "base_uri": "https://localhost:8080/"
        },
        "id": "_bmg8BgfMUOG",
        "outputId": "c628249e-eba4-4d6e-ea95-297ac4890ce0"
      },
      "source": [
        "print(\"Hello World!\"*7)"
      ],
      "execution_count": 44,
      "outputs": [
        {
          "output_type": "stream",
          "text": [
            "Hello World!Hello World!Hello World!Hello World!Hello World!Hello World!Hello World!\n"
          ],
          "name": "stdout"
        }
      ]
    },
    {
      "cell_type": "markdown",
      "metadata": {
        "id": "MfrA5O_DMUOG"
      },
      "source": [
        "16. What is the result of \"apple\" > \"Apple\""
      ]
    },
    {
      "cell_type": "code",
      "metadata": {
        "id": "JJc9huteMUOH"
      },
      "source": [
        ""
      ],
      "execution_count": null,
      "outputs": []
    },
    {
      "cell_type": "markdown",
      "metadata": {
        "id": "mU8DTPv6MUOH"
      },
      "source": [
        "17. Print out if 25 multiplied by 54 is bigger than 33 multipled by 33"
      ]
    },
    {
      "cell_type": "code",
      "metadata": {
        "colab": {
          "base_uri": "https://localhost:8080/"
        },
        "id": "ddBEjG-qMUOI",
        "outputId": "28bdcf9c-af2c-44d0-beb7-97f7ae7b0cde"
      },
      "source": [
        "print(\"(25*54)>(33*33)\")"
      ],
      "execution_count": 46,
      "outputs": [
        {
          "output_type": "stream",
          "text": [
            "(25*54)>(33*33)\n"
          ],
          "name": "stdout"
        }
      ]
    },
    {
      "cell_type": "markdown",
      "metadata": {
        "id": "xGvaeEXKMUOI"
      },
      "source": [
        "18. What is the result of of 123 == “123”?"
      ]
    },
    {
      "cell_type": "code",
      "metadata": {
        "id": "8QAt38pRMUOI"
      },
      "source": [
        ""
      ],
      "execution_count": null,
      "outputs": []
    },
    {
      "cell_type": "markdown",
      "metadata": {
        "id": "fYL86-yKMUOJ"
      },
      "source": [
        "19. Ask a user for width and length of a rectangle. Then compute its area and perimeter."
      ]
    },
    {
      "cell_type": "code",
      "metadata": {
        "id": "w5F5YMfkMUOJ"
      },
      "source": [
        ""
      ],
      "execution_count": null,
      "outputs": []
    },
    {
      "cell_type": "markdown",
      "metadata": {
        "id": "9KCdMF5FMUOJ"
      },
      "source": [
        "20. Ask a user for two whole numbers. Then compute their sum and difference."
      ]
    },
    {
      "cell_type": "code",
      "metadata": {
        "id": "Ikis2HPbMUOK"
      },
      "source": [
        ""
      ],
      "execution_count": null,
      "outputs": []
    }
  ]
}