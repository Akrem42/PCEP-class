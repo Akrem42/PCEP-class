{
  "nbformat": 4,
  "nbformat_minor": 0,
  "metadata": {
    "kernelspec": {
      "display_name": "Python 3",
      "language": "python",
      "name": "python3"
    },
    "language_info": {
      "codemirror_mode": {
        "name": "ipython",
        "version": 3
      },
      "file_extension": ".py",
      "mimetype": "text/x-python",
      "name": "python",
      "nbconvert_exporter": "python",
      "pygments_lexer": "ipython3",
      "version": "3.7.6"
    },
    "colab": {
      "name": "Akrem Yusuf exerercise3.ipynb",
      "provenance": [],
      "collapsed_sections": [
        "Xx_qb-LHtxWC"
      ]
    }
  },
  "cells": [
    {
      "cell_type": "markdown",
      "metadata": {
        "id": "HO49aLkktxVj"
      },
      "source": [
        "<b>Comments within your Code</b>\n",
        "\n",
        "A vital piece of code writing is including comments within your code. Comments are chunks of text that are written above, below, alongside, etc. lines of code within a cell that is marked as \"Code\" (or in command mode). These chunks of text will be visable to you, but will NOT be executed as part of the rest of the code. Basically, you are marking your code with commentary -- for your own understanding or to allow someone else reading your code to better understand what you were doing. Get into the practice of writing descriptive comments along with all of your code. While you are learning variaous skills, it will be invaluable for you to notate the purpose of each section of code. Throughout the course lessons, you will find valuable information in the comments that I include in my code.\n",
        "\n",
        "To create a comment, insert a hashtag before a line of text within a cell that is in command mode. The text will turn green and you will know that it is a comment. See below for what a comment looks like within a cell!"
      ]
    },
    {
      "cell_type": "code",
      "metadata": {
        "id": "nBc7XHM7txVp"
      },
      "source": [
        "# this is a comment line"
      ],
      "execution_count": null,
      "outputs": []
    },
    {
      "cell_type": "code",
      "metadata": {
        "id": "D3_rF31jtxVr"
      },
      "source": [
        "            # this is just for you!"
      ],
      "execution_count": null,
      "outputs": []
    },
    {
      "cell_type": "markdown",
      "metadata": {
        "id": "nUMFRmc8txVt"
      },
      "source": [
        "# Introduction to Data, Datasets, and Basic Python"
      ]
    },
    {
      "cell_type": "markdown",
      "metadata": {
        "id": "snMMaCY4txVu"
      },
      "source": [
        "### What is Data?\n",
        "\n",
        "Data are individual units of information. Data can include the names of everyone in a community, the height of each player on a basketball team, the life-expectancy rate for several different countries, a description of symptoms from a patient over the course of a hospital stay, or the text from several articles about a specific topic. "
      ]
    },
    {
      "cell_type": "markdown",
      "metadata": {
        "id": "CCrNRWJFtxVw"
      },
      "source": [
        "### Data Types\n",
        "\n",
        "Main types of values we will be covering first are: \n",
        "\n",
        "- An int value is an integer (whole numbers)\n",
        "- A float value is a decimal number\n",
        "- A string value is alpha-numeric characters that cannot be mathematically computed; can use single or double quotes\n",
        "- A Boolean value is either True or False"
      ]
    },
    {
      "cell_type": "code",
      "metadata": {
        "id": "9oEn_1ZetxVy",
        "outputId": "b2a03f98-20dd-4848-f0f6-a00acfa1d362"
      },
      "source": [
        "123      # this is an integer"
      ],
      "execution_count": null,
      "outputs": [
        {
          "output_type": "execute_result",
          "data": {
            "text/plain": [
              "123"
            ]
          },
          "metadata": {
            "tags": []
          },
          "execution_count": 1
        }
      ]
    },
    {
      "cell_type": "code",
      "metadata": {
        "id": "Bx7_-8jftxV2",
        "outputId": "75d68821-ffaf-4530-dca4-60252d99d496"
      },
      "source": [
        "1.23     # this is a float"
      ],
      "execution_count": null,
      "outputs": [
        {
          "output_type": "execute_result",
          "data": {
            "text/plain": [
              "1.23"
            ]
          },
          "metadata": {
            "tags": []
          },
          "execution_count": 2
        }
      ]
    },
    {
      "cell_type": "code",
      "metadata": {
        "id": "olN2HERKtxV4",
        "outputId": "34c0c9b9-1500-4f4d-8d40-023a337bc54c"
      },
      "source": [
        "\"123\"    # this is a string"
      ],
      "execution_count": null,
      "outputs": [
        {
          "output_type": "execute_result",
          "data": {
            "text/plain": [
              "'123'"
            ]
          },
          "metadata": {
            "tags": []
          },
          "execution_count": 3
        }
      ]
    },
    {
      "cell_type": "code",
      "metadata": {
        "id": "BkJ-eWQTtxV7",
        "outputId": "3975f424-ff4a-441a-a004-7d2e0ac76859"
      },
      "source": [
        "'123'    # this is a string, too"
      ],
      "execution_count": null,
      "outputs": [
        {
          "output_type": "execute_result",
          "data": {
            "text/plain": [
              "'123'"
            ]
          },
          "metadata": {
            "tags": []
          },
          "execution_count": 4
        }
      ]
    },
    {
      "cell_type": "code",
      "metadata": {
        "id": "REPl0acttxV8",
        "outputId": "679bdaeb-81ba-45a8-e0dc-9b559a3eaf46"
      },
      "source": [
        "\"I'm a string.\""
      ],
      "execution_count": null,
      "outputs": [
        {
          "output_type": "execute_result",
          "data": {
            "text/plain": [
              "\"I'm a string.\""
            ]
          },
          "metadata": {
            "tags": []
          },
          "execution_count": 5
        }
      ]
    },
    {
      "cell_type": "code",
      "metadata": {
        "id": "d0_dGLvbtxV9",
        "outputId": "79aedf01-0688-4c9f-ac9a-23bccc661e2b"
      },
      "source": [
        "'I\"m a string as well.'"
      ],
      "execution_count": null,
      "outputs": [
        {
          "output_type": "execute_result",
          "data": {
            "text/plain": [
              "'I\"m a string as well.'"
            ]
          },
          "metadata": {
            "tags": []
          },
          "execution_count": 6
        }
      ]
    },
    {
      "cell_type": "code",
      "metadata": {
        "id": "0aOxWCfntxV-",
        "outputId": "0a23dd11-9ef1-46a6-9cd8-54a1ad769f12"
      },
      "source": [
        "'I'm a string as well.'"
      ],
      "execution_count": null,
      "outputs": [
        {
          "output_type": "error",
          "ename": "SyntaxError",
          "evalue": "invalid syntax (<ipython-input-8-cd141e66e8bc>, line 1)",
          "traceback": [
            "\u001b[1;36m  File \u001b[1;32m\"<ipython-input-8-cd141e66e8bc>\"\u001b[1;36m, line \u001b[1;32m1\u001b[0m\n\u001b[1;33m    'I'm a string as well.'\u001b[0m\n\u001b[1;37m       ^\u001b[0m\n\u001b[1;31mSyntaxError\u001b[0m\u001b[1;31m:\u001b[0m invalid syntax\n"
          ]
        }
      ]
    },
    {
      "cell_type": "code",
      "metadata": {
        "id": "YJcYuC0HtxV_",
        "outputId": "46e6298a-40f6-4ea8-957a-0dc93aa12ff8"
      },
      "source": [
        "\"\\\"Hey, me too\\\", said the next one.\"   # use an escape key ('\\') before double quote (\")"
      ],
      "execution_count": null,
      "outputs": [
        {
          "output_type": "execute_result",
          "data": {
            "text/plain": [
              "'\"Hey, me too\", said the next one.'"
            ]
          },
          "metadata": {
            "tags": []
          },
          "execution_count": 9
        }
      ]
    },
    {
      "cell_type": "code",
      "metadata": {
        "id": "EFRTAb52txWA",
        "outputId": "49fb329b-b347-4b4b-808e-f7f8a3c42a72"
      },
      "source": [
        "True"
      ],
      "execution_count": null,
      "outputs": [
        {
          "output_type": "execute_result",
          "data": {
            "text/plain": [
              "True"
            ]
          },
          "metadata": {
            "tags": []
          },
          "execution_count": 10
        }
      ]
    },
    {
      "cell_type": "code",
      "metadata": {
        "id": "MZB8edVKtxWB",
        "outputId": "29aa737b-3eb9-485a-89d1-f32c36ef11f4"
      },
      "source": [
        "false            # what color is it?"
      ],
      "execution_count": null,
      "outputs": [
        {
          "output_type": "error",
          "ename": "NameError",
          "evalue": "name 'false' is not defined",
          "traceback": [
            "\u001b[1;31m---------------------------------------------------------------------------\u001b[0m",
            "\u001b[1;31mNameError\u001b[0m                                 Traceback (most recent call last)",
            "\u001b[1;32m<ipython-input-11-4148dc2aeab6>\u001b[0m in \u001b[0;36m<module>\u001b[1;34m\u001b[0m\n\u001b[1;32m----> 1\u001b[1;33m \u001b[0mfalse\u001b[0m            \u001b[1;31m# what color is it?\u001b[0m\u001b[1;33m\u001b[0m\u001b[1;33m\u001b[0m\u001b[0m\n\u001b[0m",
            "\u001b[1;31mNameError\u001b[0m: name 'false' is not defined"
          ]
        }
      ]
    },
    {
      "cell_type": "markdown",
      "metadata": {
        "id": "Xx_qb-LHtxWC"
      },
      "source": [
        "### What is a Variable? \n",
        "\n",
        "<b>A variable</b> is a holder or container for a specific value(s). A value can range in type, but regardless of what the value is, the variable holds that information which allows you to call upon it when you need it. Variables can hold one or many values. \n",
        "\n",
        "<b>A value</b> is information or data. This can include a number, a sentence, a symbol, an address, etc. The list is endless. Sometimes values are complex and messy, and therefore they are better organized and manipulated when assigned to a variable. "
      ]
    },
    {
      "cell_type": "markdown",
      "metadata": {
        "id": "Tbrt71kNtxWD"
      },
      "source": [
        "<b>ASSIGNING A VALUE TO A VARIABLE</b>\n",
        "\n",
        "You can assign any value you choose to any variable you choose. When considering what to name your variables, keep the variable names (1) descriptive, (2) short, and (3) without spaces!\n",
        "\n",
        "To assign a value to a variable name, you will first write the name of the variable and then add a single equal sign (=), on the right of the equal sign you will write out the value you want to assign that variable. "
      ]
    },
    {
      "cell_type": "code",
      "metadata": {
        "id": "e8li25LYtxWD"
      },
      "source": [
        "# <variable name> = <data value>\n",
        "\n",
        "x = 123    # variable name is x and it has an integer value of 123\n",
        "y = 1.23   # variable name is y and it has a float value of 1.23\n",
        "z = \"123\"  # varialbe name is z and it has a string value of \"123\"\n",
        "z1 = '123' # varialbe name is z1 and it has a string value of '123'"
      ],
      "execution_count": null,
      "outputs": []
    },
    {
      "cell_type": "markdown",
      "metadata": {
        "id": "BSZQS3gstxWE"
      },
      "source": [
        "<b>OUTPUTTING THE VALUE OF A VARIABLE</b>\n",
        "\n",
        "What use is a variable if you can never see what value(s) it contains? Throughout this course, you will learn to explore and manipulate the data that is stored within variables. However, before we get too fancy, we have to learn how to display the values that are contained within our variables. We can do this easily by simply typing the variable name in a cell and running that cell -- the output beneath the cell will display the value stored within the variable. "
      ]
    },
    {
      "cell_type": "code",
      "metadata": {
        "id": "-abPHwPstxWE",
        "outputId": "31fd5493-c9b8-474f-c687-57f79f92ae6e"
      },
      "source": [
        "x          # this statement will print the value of x "
      ],
      "execution_count": null,
      "outputs": [
        {
          "output_type": "execute_result",
          "data": {
            "text/plain": [
              "123"
            ]
          },
          "metadata": {
            "tags": []
          },
          "execution_count": 13
        }
      ]
    },
    {
      "cell_type": "code",
      "metadata": {
        "id": "HR-SUkSFtxWF",
        "outputId": "8f102546-7406-4fca-9ebe-0305cd5bd8b4"
      },
      "source": [
        "rate = 2.625%"
      ],
      "execution_count": null,
      "outputs": [
        {
          "output_type": "error",
          "ename": "SyntaxError",
          "evalue": "invalid syntax (<ipython-input-14-233ec2e44f5b>, line 1)",
          "traceback": [
            "\u001b[1;36m  File \u001b[1;32m\"<ipython-input-14-233ec2e44f5b>\"\u001b[1;36m, line \u001b[1;32m1\u001b[0m\n\u001b[1;33m    rate = 2.625%\u001b[0m\n\u001b[1;37m                 ^\u001b[0m\n\u001b[1;31mSyntaxError\u001b[0m\u001b[1;31m:\u001b[0m invalid syntax\n"
          ]
        }
      ]
    },
    {
      "cell_type": "code",
      "metadata": {
        "id": "nU9WZDFftxWF"
      },
      "source": [
        ""
      ],
      "execution_count": null,
      "outputs": []
    },
    {
      "cell_type": "code",
      "metadata": {
        "id": "YKpp2c4qtxWG",
        "outputId": "00ae627c-74f8-4b53-f642-04c589b5618d"
      },
      "source": [
        "# % is an arithematic operator - we will cover this later\n",
        "\n",
        "\n",
        "rate = 0.02625\n",
        "rate"
      ],
      "execution_count": null,
      "outputs": [
        {
          "output_type": "execute_result",
          "data": {
            "text/plain": [
              "0.02625"
            ]
          },
          "metadata": {
            "tags": []
          },
          "execution_count": 15
        }
      ]
    },
    {
      "cell_type": "code",
      "metadata": {
        "id": "pWD95atgtxWG",
        "outputId": "6459fa17-2eae-471b-f8b9-ed88da33eb4d"
      },
      "source": [
        "found = True    # use a verb to hold Boolean value\n",
        "found"
      ],
      "execution_count": null,
      "outputs": [
        {
          "output_type": "execute_result",
          "data": {
            "text/plain": [
              "True"
            ]
          },
          "metadata": {
            "tags": []
          },
          "execution_count": 16
        }
      ]
    },
    {
      "cell_type": "code",
      "metadata": {
        "id": "AonPqJc6txWH",
        "outputId": "467b2987-dda3-450d-d7d5-2728ed03a6f6"
      },
      "source": [
        "# variable names start with a letter or underscore (_)\n",
        "\n",
        "_12th = 3\n",
        "_12th"
      ],
      "execution_count": null,
      "outputs": [
        {
          "output_type": "execute_result",
          "data": {
            "text/plain": [
              "3"
            ]
          },
          "metadata": {
            "tags": []
          },
          "execution_count": 17
        }
      ]
    },
    {
      "cell_type": "code",
      "metadata": {
        "id": "aRGtQHiDtxWH",
        "outputId": "690ac7a7-9130-4bc6-cc96-a2e4eafdc641"
      },
      "source": [
        "12th = 100\n",
        "12th"
      ],
      "execution_count": null,
      "outputs": [
        {
          "output_type": "error",
          "ename": "SyntaxError",
          "evalue": "invalid syntax (<ipython-input-18-d5d3d609326e>, line 1)",
          "traceback": [
            "\u001b[1;36m  File \u001b[1;32m\"<ipython-input-18-d5d3d609326e>\"\u001b[1;36m, line \u001b[1;32m1\u001b[0m\n\u001b[1;33m    12th = 100\u001b[0m\n\u001b[1;37m       ^\u001b[0m\n\u001b[1;31mSyntaxError\u001b[0m\u001b[1;31m:\u001b[0m invalid syntax\n"
          ]
        }
      ]
    },
    {
      "cell_type": "code",
      "metadata": {
        "id": "7TceKnHatxWI",
        "outputId": "8369e663-9398-4966-a773-885cdfb1adc6"
      },
      "source": [
        "# a variable name must start with a letter or underscore (_)\n",
        "\n",
        "\n",
        "th12=100\n",
        "th12"
      ],
      "execution_count": null,
      "outputs": [
        {
          "output_type": "execute_result",
          "data": {
            "text/plain": [
              "100"
            ]
          },
          "metadata": {
            "tags": []
          },
          "execution_count": 19
        }
      ]
    },
    {
      "cell_type": "code",
      "metadata": {
        "id": "uJ8PBj6StxWJ"
      },
      "source": [
        "# variable naming convention\n",
        "\n",
        "firstName = \"camel type\"\n",
        "first_name = \"snake type\"\n",
        "firstname = \"not very good type\""
      ],
      "execution_count": null,
      "outputs": []
    },
    {
      "cell_type": "code",
      "metadata": {
        "id": "1Ogp1ZP3txWJ",
        "outputId": "cc49defd-1034-4910-f0a2-3dd99e9d6e2b"
      },
      "source": [
        "# variable can hold any data type in Python\n",
        "value = 20877\n",
        "value"
      ],
      "execution_count": null,
      "outputs": [
        {
          "output_type": "execute_result",
          "data": {
            "text/plain": [
              "20877"
            ]
          },
          "metadata": {
            "tags": []
          },
          "execution_count": 21
        }
      ]
    },
    {
      "cell_type": "code",
      "metadata": {
        "id": "NkBdS2NHtxWJ",
        "outputId": "fadc129d-bf23-48f1-c26d-5cc6b888cf9d"
      },
      "source": [
        "value = \"20877\"\n",
        "value"
      ],
      "execution_count": null,
      "outputs": [
        {
          "output_type": "execute_result",
          "data": {
            "text/plain": [
              "'20877'"
            ]
          },
          "metadata": {
            "tags": []
          },
          "execution_count": 22
        }
      ]
    },
    {
      "cell_type": "code",
      "metadata": {
        "id": "KQP6msTptxWK",
        "outputId": "d25d8a0b-26da-459d-d8d8-d322c46454fd"
      },
      "source": [
        "value = 208.77\n",
        "value"
      ],
      "execution_count": null,
      "outputs": [
        {
          "output_type": "execute_result",
          "data": {
            "text/plain": [
              "208.77"
            ]
          },
          "metadata": {
            "tags": []
          },
          "execution_count": 23
        }
      ]
    },
    {
      "cell_type": "markdown",
      "metadata": {
        "id": "zgjH2Cu4txWK"
      },
      "source": [
        "###  Exercise 1\n",
        "\n",
        "- Open a new Jupyter Notebook file named <b>exercise1</b>\n",
        "- On each cell, create a variable called: \n",
        "    - my_name : assign a <b>string</b> value and display its value\n",
        "    - month : assign an <b>integer</b> number and display its value\n",
        "    - gpa : assign a <b>float</b> number and display its value\n",
        "\n",
        "\n",
        "- Run each cell at a time\n",
        "- In a new cell, assign new value to all three variables to new values and display each value\n",
        "- Run the new cell\n"
      ]
    },
    {
      "cell_type": "code",
      "metadata": {
        "colab": {
          "base_uri": "https://localhost:8080/",
          "height": 35
        },
        "id": "jLaH8tI8txWL",
        "outputId": "df8a4b81-30d3-41e5-9e9f-fedc6e6e99a5"
      },
      "source": [
        "# my_name : assign a string value and display its value\n",
        "my_name = 'Akrem'\n",
        "my_name"
      ],
      "execution_count": 5,
      "outputs": [
        {
          "output_type": "execute_result",
          "data": {
            "application/vnd.google.colaboratory.intrinsic+json": {
              "type": "string"
            },
            "text/plain": [
              "'Akrem'"
            ]
          },
          "metadata": {
            "tags": []
          },
          "execution_count": 5
        }
      ]
    },
    {
      "cell_type": "code",
      "metadata": {
        "colab": {
          "base_uri": "https://localhost:8080/"
        },
        "id": "3IeTekm1txWM",
        "outputId": "bc729718-e9a2-433f-f7fe-6d8f90550e61"
      },
      "source": [
        "# month : assign an integer number and display its value\n",
        "month = 9\n",
        "month"
      ],
      "execution_count": 8,
      "outputs": [
        {
          "output_type": "execute_result",
          "data": {
            "text/plain": [
              "9"
            ]
          },
          "metadata": {
            "tags": []
          },
          "execution_count": 8
        }
      ]
    },
    {
      "cell_type": "code",
      "metadata": {
        "colab": {
          "base_uri": "https://localhost:8080/"
        },
        "id": "A2ipgPrDtxWM",
        "outputId": "dab63fc1-cbfb-404e-e284-436a4e4769c4"
      },
      "source": [
        "# gpa : assign a float number and display its value\n",
        "gpa = 3.92\n",
        "gpa"
      ],
      "execution_count": 9,
      "outputs": [
        {
          "output_type": "execute_result",
          "data": {
            "text/plain": [
              "3.92"
            ]
          },
          "metadata": {
            "tags": []
          },
          "execution_count": 9
        }
      ]
    },
    {
      "cell_type": "code",
      "metadata": {
        "colab": {
          "base_uri": "https://localhost:8080/"
        },
        "id": "5Dud8JQFtxWM",
        "outputId": "5d434dfa-711e-46c4-8f59-b80174bf6aed"
      },
      "source": [
        "# assign new value to all three variables\n",
        "my_name = 'Yusuf'\n",
        "Month = 7\n",
        "gpa = 4.0\n",
        "\n",
        "my_name\n",
        "Month\n",
        "gpa"
      ],
      "execution_count": 10,
      "outputs": [
        {
          "output_type": "execute_result",
          "data": {
            "text/plain": [
              "4.0"
            ]
          },
          "metadata": {
            "tags": []
          },
          "execution_count": 10
        }
      ]
    },
    {
      "cell_type": "code",
      "metadata": {
        "colab": {
          "base_uri": "https://localhost:8080/",
          "height": 35
        },
        "id": "hOpn71jRtxWN",
        "outputId": "a5f9eaa4-69af-4f22-db5f-865719a4634a"
      },
      "source": [
        "# run this cell and see what happens\n",
        "my_name\n",
        "month\n",
        "gpa"
      ],
      "execution_count": 4,
      "outputs": [
        {
          "output_type": "execute_result",
          "data": {
            "application/vnd.google.colaboratory.intrinsic+json": {
              "type": "string"
            },
            "text/plain": [
              "'Akrem'"
            ]
          },
          "metadata": {
            "tags": []
          },
          "execution_count": 4
        }
      ]
    },
    {
      "cell_type": "code",
      "metadata": {
        "colab": {
          "base_uri": "https://localhost:8080/"
        },
        "id": "Aex43hCPtxWN",
        "outputId": "9e28630d-d5d7-4cb2-d2f6-dd39ab8f7057"
      },
      "source": [
        "# what happened?\n",
        "print(my_name, month, gpa, sep='\\n')"
      ],
      "execution_count": 12,
      "outputs": [
        {
          "output_type": "stream",
          "text": [
            "Yusuf\n",
            "9\n",
            "4.0\n"
          ],
          "name": "stdout"
        }
      ]
    },
    {
      "cell_type": "markdown",
      "metadata": {
        "id": "keFlGieYtxWO"
      },
      "source": [
        "<b>PRINTING THE VALUES OF A VARIABLE</b>\n",
        "\n",
        "The <b>PRINT FUNCTION</b> commands the system to output the values of one or multiple variables. This function comes in handy when you want to see multiple values output together (combating the problem we just saw above). The print function also allows you to display more complex data than just a single value. We will explore more of what this looks like later on -- but for now, get familiar with how the print function works. "
      ]
    },
    {
      "cell_type": "code",
      "metadata": {
        "id": "Yea_Zd0ZtxWO",
        "outputId": "ad7c5fa9-cb0d-4032-81c5-d2bd419e7294"
      },
      "source": [
        "print(\"Hello, world\")"
      ],
      "execution_count": null,
      "outputs": [
        {
          "output_type": "stream",
          "text": [
            "Hello, world\n"
          ],
          "name": "stdout"
        }
      ]
    },
    {
      "cell_type": "code",
      "metadata": {
        "id": "-MVTAQgwtxWP"
      },
      "source": [
        "my_name = \"Goofy\"                             \n",
        "month = \"May\"                                 \n",
        "gpa = 5                                       "
      ],
      "execution_count": null,
      "outputs": []
    },
    {
      "cell_type": "code",
      "metadata": {
        "id": "nGP-cuFxtxWQ",
        "outputId": "29c3e3da-c506-47c9-e177-1b206a9c55ae"
      },
      "source": [
        "my_name\n",
        "month\n",
        "gpa"
      ],
      "execution_count": null,
      "outputs": [
        {
          "output_type": "execute_result",
          "data": {
            "text/plain": [
              "5"
            ]
          },
          "metadata": {
            "tags": []
          },
          "execution_count": 31
        }
      ]
    },
    {
      "cell_type": "code",
      "metadata": {
        "id": "I3XqkzxhtxWQ",
        "outputId": "ec5e7f96-ebf0-429d-d8f8-f61485340fef"
      },
      "source": [
        "print(my_name)\n",
        "print(month)\n",
        "print(gpa)"
      ],
      "execution_count": null,
      "outputs": [
        {
          "output_type": "stream",
          "text": [
            "Goofy\n",
            "May\n",
            "5\n"
          ],
          "name": "stdout"
        }
      ]
    },
    {
      "cell_type": "code",
      "metadata": {
        "id": "SFHLF1r5txWR",
        "outputId": "9ec6a74d-3183-44e0-b11d-4bcf7caf0c48"
      },
      "source": [
        "print(\"***\")\n",
        "print()\n",
        "print(\"One of Python's strength is its diverse community.\") "
      ],
      "execution_count": null,
      "outputs": [
        {
          "output_type": "stream",
          "text": [
            "***\n",
            "\n",
            "One of Python's strength is its diverse community.\n"
          ],
          "name": "stdout"
        }
      ]
    },
    {
      "cell_type": "code",
      "metadata": {
        "id": "ojix0y2atxWR",
        "outputId": "1710e2a8-11b6-483c-da6c-0a14515cf5a4"
      },
      "source": [
        "print(\"text with\\t1 tab\\t\\t2 tabs\")"
      ],
      "execution_count": null,
      "outputs": [
        {
          "output_type": "stream",
          "text": [
            "text with\t1 tab\t\t2 tabs\n"
          ],
          "name": "stdout"
        }
      ]
    },
    {
      "cell_type": "code",
      "metadata": {
        "id": "avvcuFzHtxWS",
        "outputId": "9686eb6a-d35b-4b0f-dbcf-642bf128e65a"
      },
      "source": [
        "print(\"this is \\nmultiple\\nlines\\nof text\")"
      ],
      "execution_count": null,
      "outputs": [
        {
          "output_type": "stream",
          "text": [
            "this is \n",
            "multiple\n",
            "lines\n",
            "of text\n"
          ],
          "name": "stdout"
        }
      ]
    },
    {
      "cell_type": "code",
      "metadata": {
        "id": "vHfgNAP4txWS",
        "outputId": "36d403e5-9ba6-4663-c9ec-a41ee3dfa137"
      },
      "source": [
        "print(\"\"\"this is \n",
        "multiple \n",
        "lines \n",
        "of \n",
        "strings in Python\"\"\")    # this is a doc-string or block string"
      ],
      "execution_count": null,
      "outputs": [
        {
          "output_type": "stream",
          "text": [
            "this is \n",
            "multiple \n",
            "lines \n",
            "of \n",
            "strings in Python\n"
          ],
          "name": "stdout"
        }
      ]
    },
    {
      "cell_type": "code",
      "metadata": {
        "id": "1BIW4WX2txWS",
        "outputId": "f2a74476-0a25-46bb-fdf4-86bde562e09e"
      },
      "source": [
        "print(value)             # where did 'value' variable come from?"
      ],
      "execution_count": null,
      "outputs": [
        {
          "output_type": "stream",
          "text": [
            "208.77\n"
          ],
          "name": "stdout"
        }
      ]
    },
    {
      "cell_type": "code",
      "metadata": {
        "id": "I95ZOAxltxWT",
        "outputId": "0e8d643d-d856-48cc-9e25-ae9ed6e8fed6"
      },
      "source": [
        "print(\"Hello, \", my_name)"
      ],
      "execution_count": null,
      "outputs": [
        {
          "output_type": "stream",
          "text": [
            "Hello,  Goofy\n"
          ],
          "name": "stdout"
        }
      ]
    },
    {
      "cell_type": "code",
      "metadata": {
        "id": "3qAxHM4NtxWT"
      },
      "source": [
        "greetings = \"Hello\"\n",
        "first_name = \"Elmo\""
      ],
      "execution_count": null,
      "outputs": []
    },
    {
      "cell_type": "code",
      "metadata": {
        "id": "zenU1vUftxWT",
        "outputId": "a1014370-8e6e-419f-cbe1-8428cbacb53d"
      },
      "source": [
        "print(greetings, firstname)  # what's the result?  why?"
      ],
      "execution_count": null,
      "outputs": [
        {
          "output_type": "stream",
          "text": [
            "Hello not very good type\n"
          ],
          "name": "stdout"
        }
      ]
    },
    {
      "cell_type": "code",
      "metadata": {
        "id": "4x-Qv-uKtxWU"
      },
      "source": [
        "last_name = \"funny\""
      ],
      "execution_count": null,
      "outputs": []
    },
    {
      "cell_type": "code",
      "metadata": {
        "id": "pe_Avl8AtxWU",
        "outputId": "25069cf6-696f-43f9-fef2-5ea99d2746c6"
      },
      "source": [
        "print(first_name, last_name)  # what's the result?  why?"
      ],
      "execution_count": null,
      "outputs": [
        {
          "output_type": "stream",
          "text": [
            "Elmo funny\n"
          ],
          "name": "stdout"
        }
      ]
    },
    {
      "cell_type": "code",
      "metadata": {
        "id": "6y0ltE5CtxWU",
        "outputId": "280e0054-4d11-48a6-882f-ddb78e01cf62"
      },
      "source": [
        "print(1, 2, 3, 4, 5)"
      ],
      "execution_count": null,
      "outputs": [
        {
          "output_type": "stream",
          "text": [
            "1 2 3 4 5\n"
          ],
          "name": "stdout"
        }
      ]
    },
    {
      "cell_type": "code",
      "metadata": {
        "id": "0T-7gj6XtxWV",
        "outputId": "b57b7f5c-fd39-4962-cc3f-f4dac3cb31c9"
      },
      "source": [
        "print(1, 2, 3, 4, 5, sep='*')"
      ],
      "execution_count": null,
      "outputs": [
        {
          "output_type": "stream",
          "text": [
            "1*2*3*4*5\n"
          ],
          "name": "stdout"
        }
      ]
    },
    {
      "cell_type": "code",
      "metadata": {
        "id": "Ki-E_ba_txWV",
        "outputId": "661e7ed7-54df-4906-a3cb-3e532f063ee3"
      },
      "source": [
        "print(1, 2, 3, 4, 5)\n",
        "print(1, 2, 3, 4, 5)\n",
        "print(1, 2, 3, 4, 5)"
      ],
      "execution_count": null,
      "outputs": [
        {
          "output_type": "stream",
          "text": [
            "1 2 3 4 5\n",
            "1 2 3 4 5\n",
            "1 2 3 4 5\n"
          ],
          "name": "stdout"
        }
      ]
    },
    {
      "cell_type": "code",
      "metadata": {
        "id": "9sz4DLJDtxWV",
        "outputId": "5fd5bf9f-45b4-46ac-9d9d-0f33ce913f7a"
      },
      "source": [
        "print(1, 2, 3, 4, 5, end='**')\n",
        "print(1, 2, 3, 4, 5, end='&\\n\\n')\n",
        "print(1, 2, 3, 4, 5)"
      ],
      "execution_count": null,
      "outputs": [
        {
          "output_type": "stream",
          "text": [
            "1 2 3 4 5**1 2 3 4 5&\n",
            "\n",
            "1 2 3 4 5\n"
          ],
          "name": "stdout"
        }
      ]
    },
    {
      "cell_type": "code",
      "metadata": {
        "id": "tEhqm0RotxWW",
        "outputId": "206f6236-b200-4af1-ab1b-7826f10daed8"
      },
      "source": [
        "EOL = '|'\n",
        "DELIMITER = '\\t'\n",
        "print(1, 2, 3, 4, 5, sep=DELIMITER, end=EOL)      # user all upper cases for constant variable\n",
        "print(1, 2, 3, 4, 5, sep=DELIMITER)\n",
        "print(1, 2, 3, 4, 5, sep=DELIMITER)"
      ],
      "execution_count": null,
      "outputs": [
        {
          "output_type": "stream",
          "text": [
            "1\t2\t3\t4\t5|1\t2\t3\t4\t5\n",
            "1\t2\t3\t4\t5\n"
          ],
          "name": "stdout"
        }
      ]
    },
    {
      "cell_type": "code",
      "metadata": {
        "id": "6cynTZXitxWW",
        "outputId": "9c315ae0-0985-44d7-e70c-53534e26be1f"
      },
      "source": [
        "val1 = 20877\n",
        "val2 = \"20877\"\n",
        "val3 = 208.77\n",
        "val4 = \"208.77\"\n",
        "print(val1)\n",
        "print(val2)\n",
        "print(val3)\n",
        "print(val4)"
      ],
      "execution_count": null,
      "outputs": [
        {
          "output_type": "stream",
          "text": [
            "20877\n",
            "20877\n",
            "208.77\n",
            "208.77\n"
          ],
          "name": "stdout"
        }
      ]
    },
    {
      "cell_type": "markdown",
      "metadata": {
        "id": "ArWqSQTdtxWX"
      },
      "source": [
        "<b>OUTPUTTING THE TYPES OF DATA WITHIN A VARIABLE</b>\n",
        "\n",
        "The <b>TYPE FUNCTION</b> commands the system to output the 'variable type' information that is stored within a specific variable. Different variable types require specific codes, therefore, it is always important to be aware of the type of variables you are working with. The type function will read the variable name and output the type of variable that it is. "
      ]
    },
    {
      "cell_type": "code",
      "metadata": {
        "id": "j05rxlxOtxWY",
        "outputId": "4f01513e-acc3-4f3a-fb04-4827bcba5588"
      },
      "source": [
        "type(val1)"
      ],
      "execution_count": null,
      "outputs": [
        {
          "output_type": "execute_result",
          "data": {
            "text/plain": [
              "int"
            ]
          },
          "metadata": {
            "tags": []
          },
          "execution_count": 4
        }
      ]
    },
    {
      "cell_type": "code",
      "metadata": {
        "id": "ud5W9Q8rtxWY",
        "outputId": "f464bc5b-9ebc-4a5e-cae3-5d29091f75b2"
      },
      "source": [
        "type(val2)"
      ],
      "execution_count": null,
      "outputs": [
        {
          "output_type": "execute_result",
          "data": {
            "text/plain": [
              "str"
            ]
          },
          "metadata": {
            "tags": []
          },
          "execution_count": 5
        }
      ]
    },
    {
      "cell_type": "code",
      "metadata": {
        "id": "XQ2-CeA6txWZ",
        "outputId": "93a4ce76-3420-4ad0-feaa-d54e3c8bb217"
      },
      "source": [
        "type(val3)"
      ],
      "execution_count": null,
      "outputs": [
        {
          "output_type": "execute_result",
          "data": {
            "text/plain": [
              "float"
            ]
          },
          "metadata": {
            "tags": []
          },
          "execution_count": 6
        }
      ]
    },
    {
      "cell_type": "code",
      "metadata": {
        "id": "3CXAsKOVtxWZ",
        "outputId": "4cca85f6-6eb1-46fc-9aa5-c8cd0b9a6d46"
      },
      "source": [
        "print(type(val1))\n",
        "print(type(val2))\n",
        "print(type(val3))\n",
        "print(type(val4))"
      ],
      "execution_count": null,
      "outputs": [
        {
          "output_type": "stream",
          "text": [
            "<class 'int'>\n",
            "<class 'str'>\n",
            "<class 'float'>\n",
            "<class 'str'>\n"
          ],
          "name": "stdout"
        }
      ]
    },
    {
      "cell_type": "markdown",
      "metadata": {
        "id": "Gme4ISvTtxWZ"
      },
      "source": [
        "### Built-in Functions: \n",
        "    input([prompt]) : retrieves a string from a user\n",
        "    int(arg)        : converts arg into an integer value\n",
        "    float(arg)      : converts arg into a float value\n",
        "    str(arg)        : converts arg into a string value"
      ]
    },
    {
      "cell_type": "code",
      "metadata": {
        "id": "GrYk1BA5txWZ",
        "outputId": "2a9f03a9-7a66-44f2-a1ba-9c3be847e153"
      },
      "source": [
        "input()   # notice In[*]"
      ],
      "execution_count": null,
      "outputs": [
        {
          "output_type": "stream",
          "text": [
            "3\n"
          ],
          "name": "stdout"
        },
        {
          "output_type": "execute_result",
          "data": {
            "text/plain": [
              "'3'"
            ]
          },
          "metadata": {
            "tags": []
          },
          "execution_count": 55
        }
      ]
    },
    {
      "cell_type": "code",
      "metadata": {
        "id": "7ENg_0NttxWa",
        "outputId": "2e91e049-9c86-4785-fa97-1eb31eb5f858"
      },
      "source": [
        "print(\"Enter your first name:\")\n",
        "first_name = input()\n",
        "print(\"Hello, \" , first_name , '!')"
      ],
      "execution_count": null,
      "outputs": [
        {
          "output_type": "stream",
          "text": [
            "Enter your first name:\n",
            "elmo\n",
            "Hello,  elmo !\n"
          ],
          "name": "stdout"
        }
      ]
    },
    {
      "cell_type": "code",
      "metadata": {
        "id": "qBXTycUNtxWa",
        "outputId": "1b6808fd-9f2b-4811-c453-048fb055771d"
      },
      "source": [
        "print(\"What is your name?\", end=\"  \")\n",
        "first_name = input()\n",
        "print(\"Hello, \" + first_name + '!')"
      ],
      "execution_count": null,
      "outputs": [
        {
          "output_type": "stream",
          "text": [
            "What is your name?  elmo\n",
            "Hello, elmo!\n"
          ],
          "name": "stdout"
        }
      ]
    },
    {
      "cell_type": "code",
      "metadata": {
        "id": "wCgh7LKbtxWa",
        "outputId": "ddb6f7cc-37d8-4481-f737-28d561f81130"
      },
      "source": [
        "first_name = input(\"Enter your first name: \")\n",
        "print(\"Hello, \" + first_name + '!')"
      ],
      "execution_count": null,
      "outputs": [
        {
          "output_type": "stream",
          "text": [
            "Enter your first name: Sue\n",
            "Hello, Sue!\n"
          ],
          "name": "stdout"
        }
      ]
    },
    {
      "cell_type": "code",
      "metadata": {
        "id": "58b4AfA9txWb",
        "outputId": "bb24ffa4-497f-48d9-ae70-af3876f25336"
      },
      "source": [
        "prompt = \">\"\n",
        "print(\"Enter a number:\")\n",
        "numb1 = input(prompt)\n",
        "print(\"Enter next number:\")\n",
        "numb2 = input(prompt)\n",
        "total = numb1 * numb2\n",
        "print(f\"{numb1} * {numb2} = {total}\")"
      ],
      "execution_count": null,
      "outputs": [
        {
          "output_type": "stream",
          "text": [
            "Enter a number:\n",
            ">15\n",
            "Enter next number:\n",
            ">30\n"
          ],
          "name": "stdout"
        },
        {
          "output_type": "error",
          "ename": "TypeError",
          "evalue": "can't multiply sequence by non-int of type 'str'",
          "traceback": [
            "\u001b[1;31m---------------------------------------------------------------------------\u001b[0m",
            "\u001b[1;31mTypeError\u001b[0m                                 Traceback (most recent call last)",
            "\u001b[1;32m<ipython-input-7-8942f6815060>\u001b[0m in \u001b[0;36m<module>\u001b[1;34m\u001b[0m\n\u001b[0;32m      4\u001b[0m \u001b[0mprint\u001b[0m\u001b[1;33m(\u001b[0m\u001b[1;34m\"Enter next number:\"\u001b[0m\u001b[1;33m)\u001b[0m\u001b[1;33m\u001b[0m\u001b[1;33m\u001b[0m\u001b[0m\n\u001b[0;32m      5\u001b[0m \u001b[0mnumb2\u001b[0m \u001b[1;33m=\u001b[0m \u001b[0minput\u001b[0m\u001b[1;33m(\u001b[0m\u001b[0mprompt\u001b[0m\u001b[1;33m)\u001b[0m\u001b[1;33m\u001b[0m\u001b[1;33m\u001b[0m\u001b[0m\n\u001b[1;32m----> 6\u001b[1;33m \u001b[0mtotal\u001b[0m \u001b[1;33m=\u001b[0m \u001b[0mnumb1\u001b[0m \u001b[1;33m*\u001b[0m \u001b[0mnumb2\u001b[0m\u001b[1;33m\u001b[0m\u001b[1;33m\u001b[0m\u001b[0m\n\u001b[0m\u001b[0;32m      7\u001b[0m \u001b[0mprint\u001b[0m\u001b[1;33m(\u001b[0m\u001b[1;34mf\"{numb1} * {numb2} = {total}\"\u001b[0m\u001b[1;33m)\u001b[0m\u001b[1;33m\u001b[0m\u001b[1;33m\u001b[0m\u001b[0m\n",
            "\u001b[1;31mTypeError\u001b[0m: can't multiply sequence by non-int of type 'str'"
          ]
        }
      ]
    },
    {
      "cell_type": "code",
      "metadata": {
        "id": "hVpCXwMEtxWb",
        "outputId": "2e2daaf4-8d58-414d-dea4-9dc915141b9b"
      },
      "source": [
        "int(\"123\")"
      ],
      "execution_count": null,
      "outputs": [
        {
          "output_type": "execute_result",
          "data": {
            "text/plain": [
              "123"
            ]
          },
          "metadata": {
            "tags": []
          },
          "execution_count": 9
        }
      ]
    },
    {
      "cell_type": "code",
      "metadata": {
        "id": "_rGfSCOPtxWb",
        "outputId": "69c1d68c-bc1a-4d4d-ce1d-e9ed94330f4e"
      },
      "source": [
        "int(12.9)"
      ],
      "execution_count": null,
      "outputs": [
        {
          "output_type": "stream",
          "text": [
            "12\n"
          ],
          "name": "stdout"
        }
      ]
    },
    {
      "cell_type": "code",
      "metadata": {
        "id": "vbHuhbNUtxWc",
        "outputId": "4d4534af-2b6c-45af-d6b5-13025fd5265f"
      },
      "source": [
        "print(float(\"123\"))\n",
        "print(float(12))"
      ],
      "execution_count": null,
      "outputs": [
        {
          "output_type": "stream",
          "text": [
            "123.0\n",
            "12.0\n"
          ],
          "name": "stdout"
        }
      ]
    },
    {
      "cell_type": "code",
      "metadata": {
        "id": "GTLdDg-TtxWc",
        "outputId": "ee3947c8-f12f-4a9c-833f-7705cdcdb99e"
      },
      "source": [
        "print(str(12.3))\n",
        "print(str(12))"
      ],
      "execution_count": null,
      "outputs": [
        {
          "output_type": "stream",
          "text": [
            "12.3\n",
            "12\n"
          ],
          "name": "stdout"
        }
      ]
    },
    {
      "cell_type": "code",
      "metadata": {
        "id": "g1RDA2hntxWc",
        "outputId": "2daad11a-6948-4820-8017-b5aa32c9dda1"
      },
      "source": [
        "numb1 = int(numb1)\n",
        "numb2 = int(numb2)\n",
        "total = numb1 * numb2\n",
        "print(total)"
      ],
      "execution_count": null,
      "outputs": [
        {
          "output_type": "stream",
          "text": [
            "480\n"
          ],
          "name": "stdout"
        }
      ]
    },
    {
      "cell_type": "code",
      "metadata": {
        "id": "kFJ4j_rYtxWd",
        "outputId": "610f6f82-5330-4353-87b9-fa15673096e8"
      },
      "source": [
        "int(\"123\")"
      ],
      "execution_count": null,
      "outputs": [
        {
          "output_type": "execute_result",
          "data": {
            "text/plain": [
              "123"
            ]
          },
          "metadata": {
            "tags": []
          },
          "execution_count": 62
        }
      ]
    },
    {
      "cell_type": "code",
      "metadata": {
        "id": "xEDu-uJXtxWd",
        "outputId": "5f94478e-1372-458a-f7bb-b45885b63e73"
      },
      "source": [
        "int(123.999)"
      ],
      "execution_count": null,
      "outputs": [
        {
          "output_type": "execute_result",
          "data": {
            "text/plain": [
              "123"
            ]
          },
          "metadata": {
            "tags": []
          },
          "execution_count": 63
        }
      ]
    },
    {
      "cell_type": "code",
      "metadata": {
        "id": "h_8P2_D1txWd",
        "outputId": "66748479-7282-449a-f8d6-e7e78da941cb"
      },
      "source": [
        "int(\"abc\")"
      ],
      "execution_count": null,
      "outputs": [
        {
          "output_type": "error",
          "ename": "ValueError",
          "evalue": "invalid literal for int() with base 10: 'abc'",
          "traceback": [
            "\u001b[1;31m---------------------------------------------------------------------------\u001b[0m",
            "\u001b[1;31mValueError\u001b[0m                                Traceback (most recent call last)",
            "\u001b[1;32m<ipython-input-64-2dda1cc00c48>\u001b[0m in \u001b[0;36m<module>\u001b[1;34m\u001b[0m\n\u001b[1;32m----> 1\u001b[1;33m \u001b[0mint\u001b[0m\u001b[1;33m(\u001b[0m\u001b[1;34m\"abc\"\u001b[0m\u001b[1;33m)\u001b[0m\u001b[1;33m\u001b[0m\u001b[1;33m\u001b[0m\u001b[0m\n\u001b[0m",
            "\u001b[1;31mValueError\u001b[0m: invalid literal for int() with base 10: 'abc'"
          ]
        }
      ]
    },
    {
      "cell_type": "code",
      "metadata": {
        "id": "P9iEPt-utxWe",
        "outputId": "c5617e88-7335-4939-f431-c535ac86b0ee"
      },
      "source": [
        "float(123)"
      ],
      "execution_count": null,
      "outputs": [
        {
          "output_type": "execute_result",
          "data": {
            "text/plain": [
              "123.0"
            ]
          },
          "metadata": {
            "tags": []
          },
          "execution_count": 65
        }
      ]
    },
    {
      "cell_type": "code",
      "metadata": {
        "id": "-kOgOJBptxWe",
        "outputId": "5b6a787b-3b5a-404a-e938-0595b18e4d6f"
      },
      "source": [
        "float(\"123.12\")"
      ],
      "execution_count": null,
      "outputs": [
        {
          "output_type": "execute_result",
          "data": {
            "text/plain": [
              "123.12"
            ]
          },
          "metadata": {
            "tags": []
          },
          "execution_count": 66
        }
      ]
    },
    {
      "cell_type": "code",
      "metadata": {
        "id": "wGOi0O04txWe",
        "outputId": "61cb50fe-bcc2-46ca-b5fe-d8b7cf93a4f6"
      },
      "source": [
        "str(123)"
      ],
      "execution_count": null,
      "outputs": [
        {
          "output_type": "execute_result",
          "data": {
            "text/plain": [
              "'123'"
            ]
          },
          "metadata": {
            "tags": []
          },
          "execution_count": 67
        }
      ]
    },
    {
      "cell_type": "code",
      "metadata": {
        "id": "_KMdIe0ZtxWf",
        "outputId": "a2d98bd8-1b63-4340-d7be-ab16868be520"
      },
      "source": [
        "str(123.987)"
      ],
      "execution_count": null,
      "outputs": [
        {
          "output_type": "execute_result",
          "data": {
            "text/plain": [
              "'123.987'"
            ]
          },
          "metadata": {
            "tags": []
          },
          "execution_count": 68
        }
      ]
    },
    {
      "cell_type": "markdown",
      "metadata": {
        "id": "A1Hmp6bstxWf"
      },
      "source": [
        "###  Exercise 2\n",
        "Follow instuction(s) in a comment line"
      ]
    },
    {
      "cell_type": "code",
      "metadata": {
        "colab": {
          "base_uri": "https://localhost:8080/"
        },
        "id": "tLT3xK5GtxWf",
        "outputId": "a77158f8-2b3b-4d9d-ea7c-e44963e4aa29"
      },
      "source": [
        "# 1. Complete the code to get user's name\n",
        "name = input('Enter your first name:')\n"
      ],
      "execution_count": 13,
      "outputs": [
        {
          "output_type": "stream",
          "text": [
            "Enter your first name:Akrem\n"
          ],
          "name": "stdout"
        }
      ]
    },
    {
      "cell_type": "code",
      "metadata": {
        "colab": {
          "base_uri": "https://localhost:8080/"
        },
        "id": "LXg8GMy6txWf",
        "outputId": "2760848d-dbbf-4dcf-a1dc-9e227bb818a8"
      },
      "source": [
        "# 2. Complete the code to display a greeting using user's name\n",
        "print(\"Hello,\" +name+\"!\")\n",
        "\n"
      ],
      "execution_count": 21,
      "outputs": [
        {
          "output_type": "stream",
          "text": [
            "Hello,Akrem!\n"
          ],
          "name": "stdout"
        }
      ]
    },
    {
      "cell_type": "code",
      "metadata": {
        "colab": {
          "base_uri": "https://localhost:8080/"
        },
        "id": "5_n1F1SutxWg",
        "outputId": "d7d5a78e-722e-477e-8213-bca551417be0"
      },
      "source": [
        "# 3. Complete the code to get user's favorite number\n",
        "favorite_number = input(\"What's your favorite number? \") "
      ],
      "execution_count": 39,
      "outputs": [
        {
          "output_type": "stream",
          "text": [
            "What's your favorite number? 3\n"
          ],
          "name": "stdout"
        }
      ]
    },
    {
      "cell_type": "code",
      "metadata": {
        "colab": {
          "base_uri": "https://localhost:8080/"
        },
        "id": "knzPSEaatxWg",
        "outputId": "6fc20a88-2ebf-4b74-e80b-70e57e566313"
      },
      "source": [
        "# 4. Complete the code to display user's favorite number\n",
        "print(\"Your favorite number is \" + favorite_number)"
      ],
      "execution_count": 40,
      "outputs": [
        {
          "output_type": "stream",
          "text": [
            "Your favorite number is 3\n"
          ],
          "name": "stdout"
        }
      ]
    },
    {
      "cell_type": "code",
      "metadata": {
        "colab": {
          "base_uri": "https://localhost:8080/"
        },
        "id": "rIFlbWVntxWh",
        "outputId": "1b05d268-edf6-4978-e086-c5868a79416c"
      },
      "source": [
        "# 5. Convert user's favorite number to a int. Fix any error, if necessary\n",
        "favorite_number = int(favorite_number)\n",
        "\n",
        "print(favorite_number, \"is\", type(favorite_number))"
      ],
      "execution_count": 43,
      "outputs": [
        {
          "output_type": "stream",
          "text": [
            "3 is <class 'int'>\n"
          ],
          "name": "stdout"
        }
      ]
    },
    {
      "cell_type": "code",
      "metadata": {
        "colab": {
          "base_uri": "https://localhost:8080/"
        },
        "id": "rsYr62p8txWi",
        "outputId": "1ca0cf8f-584b-4162-c61e-d0bc09d69f67"
      },
      "source": [
        "# 6. Display user's favorite number 3 times, separated by a tab. Fix any error, if necessary\n",
        "print(favorite_number, favorite_number, favorite_number, sep=\"\\t\")"
      ],
      "execution_count": 46,
      "outputs": [
        {
          "output_type": "stream",
          "text": [
            "3\t3\t3\n"
          ],
          "name": "stdout"
        }
      ]
    },
    {
      "cell_type": "code",
      "metadata": {
        "id": "vtpKuShAtxWi"
      },
      "source": [
        "# 7. Using one print statement and a separator option only, print user's name 3 times\n",
        "print()"
      ],
      "execution_count": null,
      "outputs": []
    },
    {
      "cell_type": "code",
      "metadata": {
        "colab": {
          "base_uri": "https://localhost:8080/"
        },
        "id": "9V2GmSHxtxWi",
        "outputId": "b522ced8-c085-4775-f0eb-a2c112fb2aef"
      },
      "source": [
        "print(name, name, name )"
      ],
      "execution_count": 59,
      "outputs": [
        {
          "output_type": "stream",
          "text": [
            "Akrem Akrem Akrem\n"
          ],
          "name": "stdout"
        }
      ]
    },
    {
      "cell_type": "markdown",
      "metadata": {
        "id": "IeBkNwTltxWi"
      },
      "source": [
        "### Arithmetic Operators\n",
        "    +  : addition\n",
        "    -  : subtraction\n",
        "    *  : multiplication\n",
        "    /  : division\n",
        "    %  : modulo (finds the remainder of a division)\n",
        "    ** : exponent\n",
        "    // : floor division"
      ]
    },
    {
      "cell_type": "code",
      "metadata": {
        "id": "2H0LNmYTtxWj"
      },
      "source": [
        "numb1 = 25\n",
        "numb2 = 5"
      ],
      "execution_count": null,
      "outputs": []
    },
    {
      "cell_type": "code",
      "metadata": {
        "id": "zJn30awatxWj",
        "outputId": "c6e04055-62d7-4038-e088-cde5c090c371"
      },
      "source": [
        "print(numb1 + numb2)"
      ],
      "execution_count": null,
      "outputs": [
        {
          "output_type": "stream",
          "text": [
            "30\n"
          ],
          "name": "stdout"
        }
      ]
    },
    {
      "cell_type": "code",
      "metadata": {
        "id": "1Ri5SQj-txWj",
        "outputId": "e22e21ba-6b97-428d-ce54-6ffe5891fdb9"
      },
      "source": [
        "print(numb1 - numb2)"
      ],
      "execution_count": null,
      "outputs": [
        {
          "output_type": "stream",
          "text": [
            "20\n"
          ],
          "name": "stdout"
        }
      ]
    },
    {
      "cell_type": "code",
      "metadata": {
        "id": "jBhhUfMZtxWk",
        "outputId": "56e1a53d-219e-468e-ab9f-7cc6606ea2ec"
      },
      "source": [
        "numb2 = 4\n",
        "numb1 // numb2   # 25 // 4"
      ],
      "execution_count": null,
      "outputs": [
        {
          "output_type": "execute_result",
          "data": {
            "text/plain": [
              "6"
            ]
          },
          "metadata": {
            "tags": []
          },
          "execution_count": 74
        }
      ]
    },
    {
      "cell_type": "code",
      "metadata": {
        "id": "28DTzdMJtxWk",
        "outputId": "6300a398-e2ab-4171-90a9-01318bdc1863"
      },
      "source": [
        "numb1 / numb2   "
      ],
      "execution_count": null,
      "outputs": [
        {
          "output_type": "execute_result",
          "data": {
            "text/plain": [
              "6.25"
            ]
          },
          "metadata": {
            "tags": []
          },
          "execution_count": 75
        }
      ]
    },
    {
      "cell_type": "code",
      "metadata": {
        "id": "nQCNdiUctxWk",
        "outputId": "526f14b0-ea2f-4a1a-a973-b996b6ca9b7f"
      },
      "source": [
        "numb1 % numb2"
      ],
      "execution_count": null,
      "outputs": [
        {
          "output_type": "execute_result",
          "data": {
            "text/plain": [
              "1"
            ]
          },
          "metadata": {
            "tags": []
          },
          "execution_count": 76
        }
      ]
    },
    {
      "cell_type": "code",
      "metadata": {
        "id": "4vqHRSbytxWl",
        "outputId": "5a3124c5-55fd-47e2-c89f-b4bff3710d6d"
      },
      "source": [
        "numb1 - ((numb1 // numb2) * numb2)   # 25 - (6 * 4)"
      ],
      "execution_count": null,
      "outputs": [
        {
          "output_type": "execute_result",
          "data": {
            "text/plain": [
              "1"
            ]
          },
          "metadata": {
            "tags": []
          },
          "execution_count": 77
        }
      ]
    },
    {
      "cell_type": "code",
      "metadata": {
        "id": "pvj7c1qutxWl",
        "outputId": "8c5d8f73-9dbc-453e-f118-2b62d21aac05"
      },
      "source": [
        "numb1 % numb2 + 1        # what is going on?"
      ],
      "execution_count": null,
      "outputs": [
        {
          "output_type": "execute_result",
          "data": {
            "text/plain": [
              "2"
            ]
          },
          "metadata": {
            "tags": []
          },
          "execution_count": 78
        }
      ]
    },
    {
      "cell_type": "code",
      "metadata": {
        "id": "Gkrbabf3txWl",
        "outputId": "44cf9f32-3764-40c5-cb77-5dea41c8f593"
      },
      "source": [
        "numb1 % (numb2 + 1)  # 25 % (4+1)"
      ],
      "execution_count": null,
      "outputs": [
        {
          "output_type": "execute_result",
          "data": {
            "text/plain": [
              "0"
            ]
          },
          "metadata": {
            "tags": []
          },
          "execution_count": 79
        }
      ]
    },
    {
      "cell_type": "code",
      "metadata": {
        "id": "cnDuoneQtxWm",
        "outputId": "08e3b9a2-343e-4b8f-9b26-278639a2598f"
      },
      "source": [
        "result = 0\n",
        "result = result + 3\n",
        "print(result)"
      ],
      "execution_count": null,
      "outputs": [
        {
          "output_type": "stream",
          "text": [
            "3\n"
          ],
          "name": "stdout"
        }
      ]
    },
    {
      "cell_type": "markdown",
      "metadata": {
        "id": "7Xz7jhF5txWm"
      },
      "source": [
        "### Compound Assignment Operators\n",
        "    +=  : a = a + b\n",
        "    -=  : a = a - b\n",
        "    *=  : a = a * b\n",
        "    /=  : a = a / b\n",
        "    %=  : a = a % b\n",
        "    **= : a = a ** b\n",
        "    //= : a = a // b"
      ]
    },
    {
      "cell_type": "code",
      "metadata": {
        "id": "nAIZHAAutxWm",
        "outputId": "79857ced-ad2a-49d1-d609-cb22af360024"
      },
      "source": [
        "result = 0\n",
        "result += 3\n",
        "print(result)"
      ],
      "execution_count": null,
      "outputs": [
        {
          "output_type": "stream",
          "text": [
            "3\n"
          ],
          "name": "stdout"
        }
      ]
    },
    {
      "cell_type": "code",
      "metadata": {
        "id": "4C6CMY89txWn",
        "outputId": "40c69638-269b-41a3-a7d9-330f99e5bce0"
      },
      "source": [
        "new_value += 2  # new_value = new_value + 2\n",
        "print(new_value)"
      ],
      "execution_count": null,
      "outputs": [
        {
          "output_type": "error",
          "ename": "NameError",
          "evalue": "name 'new_value' is not defined",
          "traceback": [
            "\u001b[1;31m---------------------------------------------------------------------------\u001b[0m",
            "\u001b[1;31mNameError\u001b[0m                                 Traceback (most recent call last)",
            "\u001b[1;32m<ipython-input-82-c77515d6c496>\u001b[0m in \u001b[0;36m<module>\u001b[1;34m\u001b[0m\n\u001b[1;32m----> 1\u001b[1;33m \u001b[0mnew_value\u001b[0m \u001b[1;33m+=\u001b[0m \u001b[1;36m2\u001b[0m  \u001b[1;31m# new_value = new_value + 2\u001b[0m\u001b[1;33m\u001b[0m\u001b[1;33m\u001b[0m\u001b[0m\n\u001b[0m\u001b[0;32m      2\u001b[0m \u001b[0mprint\u001b[0m\u001b[1;33m(\u001b[0m\u001b[0mnew_value\u001b[0m\u001b[1;33m)\u001b[0m\u001b[1;33m\u001b[0m\u001b[1;33m\u001b[0m\u001b[0m\n",
            "\u001b[1;31mNameError\u001b[0m: name 'new_value' is not defined"
          ]
        }
      ]
    },
    {
      "cell_type": "code",
      "metadata": {
        "id": "NzGvXtePtxWn",
        "outputId": "65c145ec-5985-4fd6-8649-79f8e393c7f7"
      },
      "source": [
        "new_value = 0\n",
        "new_value += 2  # new_value = new_value + 2\n",
        "print(new_value)"
      ],
      "execution_count": null,
      "outputs": [
        {
          "output_type": "stream",
          "text": [
            "2\n"
          ],
          "name": "stdout"
        }
      ]
    },
    {
      "cell_type": "code",
      "metadata": {
        "id": "4S6TknO4txWo",
        "outputId": "4b1a4654-ff0d-42a1-ff19-83fd55e787d0"
      },
      "source": [
        "result *= 5\n",
        "print(result)"
      ],
      "execution_count": null,
      "outputs": [
        {
          "output_type": "stream",
          "text": [
            "15\n"
          ],
          "name": "stdout"
        }
      ]
    },
    {
      "cell_type": "code",
      "metadata": {
        "id": "EcUQ7Wx8txWo",
        "outputId": "c3e04d7c-d749-4c8c-b04b-525639b55edc"
      },
      "source": [
        "result /= 5  # result = result / 5\n",
        "print(result)"
      ],
      "execution_count": null,
      "outputs": [
        {
          "output_type": "stream",
          "text": [
            "3.0\n"
          ],
          "name": "stdout"
        }
      ]
    },
    {
      "cell_type": "code",
      "metadata": {
        "id": "FXIdKNketxWp",
        "outputId": "66aad274-94fd-45e2-c0e5-ce71e6df77c7"
      },
      "source": [
        "10 / 2"
      ],
      "execution_count": null,
      "outputs": [
        {
          "output_type": "execute_result",
          "data": {
            "text/plain": [
              "5.0"
            ]
          },
          "metadata": {
            "tags": []
          },
          "execution_count": 86
        }
      ]
    },
    {
      "cell_type": "code",
      "metadata": {
        "id": "Q0s14z2LtxWp",
        "outputId": "15837af5-d025-47d4-a711-d566453baf04"
      },
      "source": [
        "new_value = 8\n",
        "new_value %= 5\n",
        "print(new_value)"
      ],
      "execution_count": null,
      "outputs": [
        {
          "output_type": "stream",
          "text": [
            "3\n"
          ],
          "name": "stdout"
        }
      ]
    },
    {
      "cell_type": "code",
      "metadata": {
        "id": "QE0IRWivtxWq",
        "outputId": "fcb91c1d-0c55-4609-eaf1-c5c0d43fd665"
      },
      "source": [
        "new_value = 8\n",
        "new_value //= 5\n",
        "print(new_value)"
      ],
      "execution_count": null,
      "outputs": [
        {
          "output_type": "stream",
          "text": [
            "1\n"
          ],
          "name": "stdout"
        }
      ]
    },
    {
      "cell_type": "markdown",
      "metadata": {
        "id": "n_ojut3otxWq"
      },
      "source": [
        "###  Exercise 3\n",
        "Follow instuction(s) in a comment line"
      ]
    },
    {
      "cell_type": "code",
      "metadata": {
        "colab": {
          "base_uri": "https://localhost:8080/"
        },
        "id": "RhOIiud2txWq",
        "outputId": "e0ca647b-b7b9-4e07-f75e-0d3d145d6084"
      },
      "source": [
        "# 1. What is 10 divided by 2? Show the answer as a float and an integer.\n",
        "answer= 10 / 2\n",
        "print(answer)\n",
        "\n",
        "print(int(answer))\n"
      ],
      "execution_count": 3,
      "outputs": [
        {
          "output_type": "stream",
          "text": [
            "5.0\n",
            "5\n"
          ],
          "name": "stdout"
        }
      ]
    },
    {
      "cell_type": "code",
      "metadata": {
        "colab": {
          "base_uri": "https://localhost:8080/"
        },
        "id": "6rwLCZyOtxWr",
        "outputId": "365308ee-a208-4425-e206-04c79b0cfb27"
      },
      "source": [
        "# 2. What is the average of these scores: 80, 91, 99, 78, 95, 87, 92?\n",
        "\n",
        "total = 80 + 91 + 99 + 78 + 95 + 87 + 92\n",
        "average = total / 7\n",
        "\n",
        "print(average)"
      ],
      "execution_count": 4,
      "outputs": [
        {
          "output_type": "stream",
          "text": [
            "88.85714285714286\n"
          ],
          "name": "stdout"
        }
      ]
    },
    {
      "cell_type": "code",
      "metadata": {
        "colab": {
          "base_uri": "https://localhost:8080/"
        },
        "id": "L58GWg51txWr",
        "outputId": "efba4f14-8751-45e8-ede1-9db94d8d211c"
      },
      "source": [
        "# 3. Fix the Python code on the next cell.  It is calculating the sales tax and total price (including sales tax) \n",
        "#    for 10 books when the price of a book is $49.95 and the tax rate is 6.5%\n",
        "\n",
        "price = 49.95\n",
        "qty = 1\n",
        "tax = 0.065\n",
        "subtotal = price * qty\n",
        "tax *= subtotal\n",
        "total = subtotal + tax\n",
        "\n",
        "# use formatted string\n",
        "print(\"Price:\\t\\t$\", price)\n",
        "print(\"Quantity:\\t$\", qty)\n",
        "print(\"------------------\")\n",
        "print(\"Subtotal:\\t$\", subtotal)\n",
        "print(\"Sales Tax:\\t$\", tax)\n",
        "print(\"------------------\")\n",
        "print(\"Total:\\t\\n$\", total)\n",
        "\n"
      ],
      "execution_count": 16,
      "outputs": [
        {
          "output_type": "stream",
          "text": [
            "Price:\t\t$ 49.95\n",
            "Quantity:\t$ 1\n",
            "------------------\n",
            "Subtotal:\t$ 49.95\n",
            "Sales Tax:\t$ 3.2467500000000005\n",
            "------------------\n",
            "Total:\t\n",
            "$ 53.19675\n"
          ],
          "name": "stdout"
        }
      ]
    },
    {
      "cell_type": "code",
      "metadata": {
        "id": "OGH5ez4itxWr"
      },
      "source": [
        ""
      ],
      "execution_count": null,
      "outputs": []
    },
    {
      "cell_type": "markdown",
      "metadata": {
        "id": "LK9gTHvGtxWr"
      },
      "source": [
        "### String Operations\n",
        "    + : concatenation\n",
        "    * : repeat"
      ]
    },
    {
      "cell_type": "code",
      "metadata": {
        "id": "jVpJ3HCHtxWr",
        "outputId": "a2b7e5c0-e013-449a-9802-5acfa190e633"
      },
      "source": [
        "message = \"secret\"\n",
        "print(message+message)\n",
        "print(message,message)"
      ],
      "execution_count": null,
      "outputs": [
        {
          "output_type": "stream",
          "text": [
            "secretsecret\n",
            "secret secret\n"
          ],
          "name": "stdout"
        }
      ]
    },
    {
      "cell_type": "code",
      "metadata": {
        "id": "Bb3UnGMOtxWx",
        "outputId": "844abd9f-945b-4129-8145-ee16dce5db94"
      },
      "source": [
        "print(message*5)"
      ],
      "execution_count": null,
      "outputs": [
        {
          "output_type": "stream",
          "text": [
            "secretsecretsecretsecretsecret\n"
          ],
          "name": "stdout"
        }
      ]
    },
    {
      "cell_type": "code",
      "metadata": {
        "id": "bUJOHyoQtxWx",
        "outputId": "c501c50d-f87f-405e-9358-fb9ed37e1cda"
      },
      "source": [
        "print(\"-\" * 30)"
      ],
      "execution_count": null,
      "outputs": [
        {
          "output_type": "stream",
          "text": [
            "------------------------------\n"
          ],
          "name": "stdout"
        }
      ]
    },
    {
      "cell_type": "code",
      "metadata": {
        "id": "5CdbnP-7txWy",
        "outputId": "3bd704ad-d3c8-4983-ae26-6591e511d720"
      },
      "source": [
        "one = \"One\"\n",
        "ones = one+one+one\n",
        "print(one)\n",
        "print(ones)"
      ],
      "execution_count": null,
      "outputs": [
        {
          "output_type": "stream",
          "text": [
            "One\n",
            "OneOneOne\n"
          ],
          "name": "stdout"
        }
      ]
    },
    {
      "cell_type": "code",
      "metadata": {
        "id": "hkvKyLzntxWz",
        "outputId": "e5f86840-e19b-4350-9bf2-1d316cdb238c"
      },
      "source": [
        "two = \"2\"\n",
        "twos = two * 2\n",
        "print(two)\n",
        "print(twos)"
      ],
      "execution_count": null,
      "outputs": [
        {
          "output_type": "stream",
          "text": [
            "2\n",
            "22\n"
          ],
          "name": "stdout"
        }
      ]
    },
    {
      "cell_type": "code",
      "metadata": {
        "colab": {
          "base_uri": "https://localhost:8080/"
        },
        "id": "X5nLFK54txWz",
        "outputId": "56140a0a-688b-413a-9a0a-633e04466d30"
      },
      "source": [
        "two = \"2\"\n",
        "print(2+2)\n",
        "print( two + two)\n"
      ],
      "execution_count": 22,
      "outputs": [
        {
          "output_type": "stream",
          "text": [
            "4\n",
            "22\n"
          ],
          "name": "stdout"
        }
      ]
    },
    {
      "cell_type": "code",
      "metadata": {
        "id": "bDDeJ2QVtxWz"
      },
      "source": [
        ""
      ],
      "execution_count": null,
      "outputs": []
    },
    {
      "cell_type": "code",
      "metadata": {
        "id": "Wfo-try0txW0"
      },
      "source": [
        ""
      ],
      "execution_count": null,
      "outputs": []
    },
    {
      "cell_type": "code",
      "metadata": {
        "id": "fAtlwFuQtxW0"
      },
      "source": [
        ""
      ],
      "execution_count": null,
      "outputs": []
    }
  ]
}