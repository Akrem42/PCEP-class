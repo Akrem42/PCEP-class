{
  "nbformat": 4,
  "nbformat_minor": 0,
  "metadata": {
    "kernelspec": {
      "display_name": "Python 3",
      "language": "python",
      "name": "python3"
    },
    "language_info": {
      "codemirror_mode": {
        "name": "ipython",
        "version": 3
      },
      "file_extension": ".py",
      "mimetype": "text/x-python",
      "name": "python",
      "nbconvert_exporter": "python",
      "pygments_lexer": "ipython3",
      "version": "3.7.6"
    },
    "colab": {
      "name": "AkremModule4 Exercise.ipynb",
      "provenance": [],
      "collapsed_sections": []
    }
  },
  "cells": [
    {
      "cell_type": "markdown",
      "metadata": {
        "id": "o489Fb_wGr7M"
      },
      "source": [
        "### Module 4 Exercise"
      ]
    },
    {
      "cell_type": "markdown",
      "metadata": {
        "id": "LOILgmf6Gr7O"
      },
      "source": [
        "1. How many occurences of \"row\" is in \"Row, row, row your boat. Gently down the stream. Merrily, merrily, merrily, merrily. Life is but a dream. Row, row, row your boat. Gently up the creek.\" "
      ]
    },
    {
      "cell_type": "code",
      "metadata": {
        "colab": {
          "base_uri": "https://localhost:8080/"
        },
        "id": "uTqdCN3fGr7Q",
        "outputId": "e4448623-bc24-4641-903e-86a1c7e79e18"
      },
      "source": [
        "song = \"Row, row, row your boat. Gently down the stream. Merrily, merrily, merrily, merrily. Life is but a dream. Row, row, row your boat. Gently up the creek.\"\n",
        "song.count(\"row\")\n"
      ],
      "execution_count": 9,
      "outputs": [
        {
          "output_type": "execute_result",
          "data": {
            "text/plain": [
              "4"
            ]
          },
          "metadata": {},
          "execution_count": 9
        }
      ]
    },
    {
      "cell_type": "markdown",
      "metadata": {
        "id": "qUQ2MMWpGr7R"
      },
      "source": [
        "2. Ask a user for a name, color, and an animal.  <br>\n",
        "Then using string format method per each line, show following:<br>\n",
        "<b><i>name</i></b> had a little <b><i>animal</i></b>. <br>\n",
        "It was <b><i>color</i></b> as snow. <br>\n",
        "And everywhere that <b><i>name</i></b> went, the <b><i>animal</i></b> was sure to go."
      ]
    },
    {
      "cell_type": "code",
      "metadata": {
        "colab": {
          "base_uri": "https://localhost:8080/"
        },
        "id": "SGdVDKtsGr7S",
        "outputId": "5b7d9aac-75a7-4c84-980f-f318d458dc30"
      },
      "source": [
        "print(\"Enter your name: \")\n",
        "first_name = input()\n",
        "print(\"Enter your color: \")\n",
        "Color = input()\n",
        "print(\"Enter your animal: \")\n",
        "Animal = input()\n",
        "\n",
        "print(first_name, \"had a little\" , Animal, \".\")\n",
        "print(\"It was\", Color, \"as snow.\")\n",
        "print(\"And everywhere that\", first_name, \"went, the\",Animal, \"was sure to go.\")"
      ],
      "execution_count": 37,
      "outputs": [
        {
          "output_type": "stream",
          "text": [
            "Enter your name: \n",
            "Akrem\n",
            "Enter your color: \n",
            "white\n",
            "Enter your animal: \n",
            "cat\n",
            "Akrem had a little cat .\n",
            "It was white as snow.\n",
            "And everywhere that Akrem went, the cat was sure to go.\n"
          ],
          "name": "stdout"
        }
      ]
    },
    {
      "cell_type": "code",
      "metadata": {
        "id": "99I8phT4Gr7T"
      },
      "source": [
        ""
      ],
      "execution_count": null,
      "outputs": []
    },
    {
      "cell_type": "markdown",
      "metadata": {
        "id": "LzTVZlGJGr7U"
      },
      "source": [
        "3. Print 3.14159 in a scientific number notation "
      ]
    },
    {
      "cell_type": "code",
      "metadata": {
        "colab": {
          "base_uri": "https://localhost:8080/",
          "height": 166
        },
        "id": "CRQPFX3ZGr7V",
        "outputId": "5068a765-e6cd-4d79-86ff-b320687f7145"
      },
      "source": [
        "print(f\"{3.14159:e}\")"
      ],
      "execution_count": 49,
      "outputs": [
        {
          "output_type": "error",
          "ename": "TypeError",
          "evalue": "ignored",
          "traceback": [
            "\u001b[0;31m---------------------------------------------------------------------------\u001b[0m",
            "\u001b[0;31mTypeError\u001b[0m                                 Traceback (most recent call last)",
            "\u001b[0;32m<ipython-input-49-1bf47ed2977f>\u001b[0m in \u001b[0;36m<module>\u001b[0;34m()\u001b[0m\n\u001b[0;32m----> 1\u001b[0;31m \u001b[0mprint\u001b[0m\u001b[0;34m(\u001b[0m\u001b[0;34mf\"{3.14159:e}\"\u001b[0m\u001b[0;34m)\u001b[0m\u001b[0;34m\u001b[0m\u001b[0;34m\u001b[0m\u001b[0m\n\u001b[0m",
            "\u001b[0;31mTypeError\u001b[0m: 'str' object is not callable"
          ]
        }
      ]
    },
    {
      "cell_type": "markdown",
      "metadata": {
        "id": "lXKUgHB1Gr7W"
      },
      "source": [
        "4. Print 3.1559 in 3 decimal places"
      ]
    },
    {
      "cell_type": "code",
      "metadata": {
        "colab": {
          "base_uri": "https://localhost:8080/",
          "height": 166
        },
        "id": "5ZJH66KzGr7X",
        "outputId": "13b2126c-1282-469f-8754-94f05140442d"
      },
      "source": [
        "print(f\"{3.1559:e}\")"
      ],
      "execution_count": 50,
      "outputs": [
        {
          "output_type": "error",
          "ename": "TypeError",
          "evalue": "ignored",
          "traceback": [
            "\u001b[0;31m---------------------------------------------------------------------------\u001b[0m",
            "\u001b[0;31mTypeError\u001b[0m                                 Traceback (most recent call last)",
            "\u001b[0;32m<ipython-input-50-44289bc1518f>\u001b[0m in \u001b[0;36m<module>\u001b[0;34m()\u001b[0m\n\u001b[0;32m----> 1\u001b[0;31m \u001b[0mprint\u001b[0m\u001b[0;34m(\u001b[0m\u001b[0;34mf\"{3.1559:e}\"\u001b[0m\u001b[0;34m)\u001b[0m\u001b[0;34m\u001b[0m\u001b[0;34m\u001b[0m\u001b[0m\n\u001b[0m",
            "\u001b[0;31mTypeError\u001b[0m: 'str' object is not callable"
          ]
        }
      ]
    },
    {
      "cell_type": "markdown",
      "metadata": {
        "id": "k4B5C5C1Gr7Y"
      },
      "source": [
        "5. Print 1589.92341 in a scientific number notation to the power of 3"
      ]
    },
    {
      "cell_type": "code",
      "metadata": {
        "id": "3NG9wO-VGr7Z"
      },
      "source": [
        ""
      ],
      "execution_count": null,
      "outputs": []
    },
    {
      "cell_type": "markdown",
      "metadata": {
        "id": "dWVWkbntGr7Z"
      },
      "source": [
        "6. Convert 39 to a binary number using floor division and mod operators. Then, compare your answer using bin() and int() functions."
      ]
    },
    {
      "cell_type": "code",
      "metadata": {
        "id": "M8b-zEdXGr7Z"
      },
      "source": [
        ""
      ],
      "execution_count": null,
      "outputs": []
    },
    {
      "cell_type": "code",
      "metadata": {
        "id": "tHS9lkBsGr7a"
      },
      "source": [
        ""
      ],
      "execution_count": null,
      "outputs": []
    },
    {
      "cell_type": "code",
      "metadata": {
        "id": "PphAltzEGr7a"
      },
      "source": [
        ""
      ],
      "execution_count": null,
      "outputs": []
    },
    {
      "cell_type": "code",
      "metadata": {
        "id": "bsv8pxmqGr7a"
      },
      "source": [
        ""
      ],
      "execution_count": null,
      "outputs": []
    },
    {
      "cell_type": "code",
      "metadata": {
        "id": "v_euyZz-Gr7a"
      },
      "source": [
        ""
      ],
      "execution_count": null,
      "outputs": []
    },
    {
      "cell_type": "code",
      "metadata": {
        "id": "7kLRSibjGr7b"
      },
      "source": [
        ""
      ],
      "execution_count": null,
      "outputs": []
    },
    {
      "cell_type": "code",
      "metadata": {
        "id": "L6KBBtJfGr7b"
      },
      "source": [
        ""
      ],
      "execution_count": null,
      "outputs": []
    },
    {
      "cell_type": "code",
      "metadata": {
        "id": "oPs3dvCnGr7b"
      },
      "source": [
        ""
      ],
      "execution_count": null,
      "outputs": []
    },
    {
      "cell_type": "markdown",
      "metadata": {
        "id": "eeumdPZjGr7b"
      },
      "source": [
        "7. Convert 39 to an octal number using floor division and mod operators. Then, compare your answer using oct() and int() functions."
      ]
    },
    {
      "cell_type": "code",
      "metadata": {
        "id": "8MLZK89jGr7c"
      },
      "source": [
        ""
      ],
      "execution_count": null,
      "outputs": []
    },
    {
      "cell_type": "code",
      "metadata": {
        "id": "HBn5USSWGr7c"
      },
      "source": [
        ""
      ],
      "execution_count": null,
      "outputs": []
    },
    {
      "cell_type": "code",
      "metadata": {
        "id": "DqoYXPvOGr7c"
      },
      "source": [
        ""
      ],
      "execution_count": null,
      "outputs": []
    },
    {
      "cell_type": "code",
      "metadata": {
        "id": "IT-czJn4Gr7c"
      },
      "source": [
        ""
      ],
      "execution_count": null,
      "outputs": []
    },
    {
      "cell_type": "markdown",
      "metadata": {
        "id": "7e0NBh0VGr7c"
      },
      "source": [
        "8. Convert 39 to a hexadecimal number using floor division and mod operators. Then, compare your answer using hex() and int() functions."
      ]
    },
    {
      "cell_type": "code",
      "metadata": {
        "id": "hMkYHw7sGr7d"
      },
      "source": [
        ""
      ],
      "execution_count": null,
      "outputs": []
    },
    {
      "cell_type": "code",
      "metadata": {
        "id": "XmguD89HGr7d"
      },
      "source": [
        ""
      ],
      "execution_count": null,
      "outputs": []
    },
    {
      "cell_type": "code",
      "metadata": {
        "id": "zZRUKwM5Gr7d"
      },
      "source": [
        ""
      ],
      "execution_count": null,
      "outputs": []
    },
    {
      "cell_type": "code",
      "metadata": {
        "id": "pYR5Qu0LGr7d"
      },
      "source": [
        ""
      ],
      "execution_count": null,
      "outputs": []
    },
    {
      "cell_type": "markdown",
      "metadata": {
        "id": "HRSvsHRaGr7d"
      },
      "source": [
        "9. Ask a user for an amount and a tax rate in percentage. Then, display the amount, rate in percentage, calculated tax amount, and the total (amount + tax amount) in one <b>nice</b> formmated print statement."
      ]
    },
    {
      "cell_type": "code",
      "metadata": {
        "id": "NTjRpNgFGr7d"
      },
      "source": [
        ""
      ],
      "execution_count": null,
      "outputs": []
    },
    {
      "cell_type": "code",
      "metadata": {
        "id": "ryjY0ZvMGr7e"
      },
      "source": [
        ""
      ],
      "execution_count": null,
      "outputs": []
    },
    {
      "cell_type": "code",
      "metadata": {
        "id": "zgAey_4SGr7e"
      },
      "source": [
        ""
      ],
      "execution_count": null,
      "outputs": []
    }
  ]
}