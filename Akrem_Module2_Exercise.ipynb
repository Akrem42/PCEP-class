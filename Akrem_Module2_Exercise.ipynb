{
  "nbformat": 4,
  "nbformat_minor": 0,
  "metadata": {
    "kernelspec": {
      "display_name": "Python 3",
      "language": "python",
      "name": "python3"
    },
    "language_info": {
      "codemirror_mode": {
        "name": "ipython",
        "version": 3
      },
      "file_extension": ".py",
      "mimetype": "text/x-python",
      "name": "python",
      "nbconvert_exporter": "python",
      "pygments_lexer": "ipython3",
      "version": "3.7.6"
    },
    "colab": {
      "name": "Akrem Module2 Exercise.ipynb",
      "provenance": []
    }
  },
  "cells": [
    {
      "cell_type": "markdown",
      "metadata": {
        "id": "nF8Jh0NGoGH9"
      },
      "source": [
        "## Exercises\n",
        "### Write the pseudocode for these problems. \n",
        "\n",
        "#### Define the problem by constructing an IPO diagram showing input, output, and processing steps\n",
        "Ask yourself\n",
        "- What control structures (sequence, selection and repetition) are required?\n",
        "- What variables are required?\n",
        "\n",
        "Show a check of your solution with **test data** for at least **two valid test cases**\n",
        "If you use the numbers provided in the example then the correct pseudocode will calculate the same result.\n",
        "    "
      ]
    },
    {
      "cell_type": "markdown",
      "metadata": {
        "id": "tjgRZpbyoGIE"
      },
      "source": [
        "#### 1. Find the average score\n",
        "A program is needed to prompt the user operator for exam scores, calculate the average score and display the result to the screen. The average score is calculated as the sum of the scores divided by the number of scores."
      ]
    },
    {
      "cell_type": "markdown",
      "metadata": {
        "id": "odRLEifkFtq6"
      },
      "source": [
        "Input: 5 test scores\n",
        "\n",
        "Output: Average\n",
        "\n",
        "Process: \n",
        "\n",
        "algorithm: (X1+X2+X3+X4+X5)/5\n",
        "\n",
        "```\n",
        "BEGIN\n",
        "\n",
        "  Prompt user for Number 1\n",
        "  Get Number 1 \n",
        "  Prompt user for Number 2\n",
        "  Get Number 2\n",
        "  Prompt user for Number 3\n",
        "  Get Number 3\n",
        "  Prompt user for Number 4\n",
        "  Get Number 4\n",
        "  Prompt user for Number 5\n",
        "  Get Number 5\n",
        "  Average=(X1+X2+X3+X4+X5)/5\n",
        "  Display Average\n",
        "\n",
        "End\n",
        "\n",
        "Test data: 1,2,3,4,5\n",
        "\n",
        "Insert a number: 1\n",
        "Insert a number: 2\n",
        "Insert a number: 3\n",
        "Insert a number: 4\n",
        "Insert a number: 5\n",
        "\n",
        "3\n",
        "```\n",
        "\n"
      ]
    },
    {
      "cell_type": "markdown",
      "metadata": {
        "id": "gGGBlq7BoGII"
      },
      "source": [
        "#### 2. How much water runs off a roof in a rain storm?\n",
        "To calculate the runoff from any given rainfall: Take the dimensions of the footprint of the roof and convert them to inches. (So, a 50' x 20' roof is 600\" x 240\"). Multiply the roof dimensions by the number of inches of rainfall. As an example, 600\" x 240\" x 1\" = 144,000 cubic inches of water for an inch of rainfall. Divide that result by 231 to get the number of gallons (because 1 gallon = 231 cubic inches). (144,000/231 = 623.38)."
      ]
    },
    {
      "cell_type": "markdown",
      "metadata": {
        "id": "8jBzoahdIXWw"
      },
      "source": [
        "Input: dimensions of roof in feet and raindall in inches\n",
        "\n",
        "Output: amount of water from rain that runs off the roof in gallons\n",
        "\n",
        "Process: \n",
        "\n",
        "algorithm: (((length * width) * 12) * rain) / 231\n",
        "\n",
        "---\n",
        "```\n",
        "Begin\n",
        "\n",
        "  Prompt user for roof length\n",
        "  Get length\n",
        "\n",
        "  Prompt user for roof width\n",
        "  Get width\n",
        "\n",
        "  Prompt user for rain in inches\n",
        "  Get inches_rain\n",
        "\n",
        "  in_length = length * 12\n",
        "  in_width = width * 12\n",
        "\n",
        "  subtotal = in_length * in_width * in_rain\n",
        "  gallon = subtotal/231\n",
        "  display gallon\n",
        "\n",
        "END\n",
        "\n",
        "Test data:\n",
        "\n",
        "Enter length of a roof in feet: 50 \n",
        "\n",
        "\n",
        "Enter width of a roof in feet: 20\n",
        "\n",
        "Enter amount of rainfall in inches: 2.3\n",
        "\n",
        "\n",
        "*   in_length: 600\n",
        "*   in_width: 240\n",
        "*   subtotal: 331200\n",
        "*   gallon: 1433.77\n",
        "\n",
        "1433.77 gallons\n",
        "```\n",
        "---\n",
        "\n",
        "\n",
        "\n"
      ]
    },
    {
      "cell_type": "markdown",
      "metadata": {
        "id": "uE5JYGEyoGIK"
      },
      "source": [
        "#### 3. Process customer record\n",
        "A program is required to read a customer’s name, a purchase amount and a tax code. The tax code has been validated and will be one of the following: 0 tax exempt (0%) 1 state sales tax only (3%) 2 federal and state sales tax (5%) 3 special sales tax (7%) The program must then compute the sales tax and the total amount due,and print the customer’s name, purchase amount, sales tax and total amount due."
      ]
    },
    {
      "cell_type": "markdown",
      "metadata": {
        "id": "wu1GEWrzoGIM"
      },
      "source": [
        "INPUT: customer's name, a purchase amount, and a tax code\n",
        "\n",
        "OUTPUT: sales tax, total amount due, print the customer's name, purchase amount, sales tax and total amount due\n",
        "\n",
        "Process: \n",
        "\n",
        "---\n",
        "```\n",
        "BEGIN\n",
        "\n",
        "  Prompt user for name\n",
        "  Receive name\n",
        "  Prompt user for purchase amount\n",
        "  Receive amount\n",
        "  Prompt user for a tax code\n",
        "  Receive a tax code\n",
        "\n",
        "  IF Tax Code is 0\n",
        "      set tax_rate = 0%\n",
        "\n",
        "  ELSE IF Tax Code is 1\n",
        "      set tax_rate = 3%\n",
        "\n",
        "  ELSE IF Tax Code is 2\n",
        "      set tax_rate = 5%\n",
        "\n",
        "  ELSE IF Tax Code is 3\n",
        "      set tax_rate = 7%\n",
        "\n",
        "  else\n",
        "      error message\n",
        "  \n",
        "  ENDIF\n",
        "\n",
        "  sales tax = purchased amount * tax_rate\n",
        "\n",
        "  total = purchased amount + sales tax\n",
        "\n",
        "  print the customer's name, purchase amount, sales tax and total\n",
        "\n",
        "END\n",
        "\n",
        "Test data: \n",
        "\n",
        "A customer's name: Akrem\n",
        "\n",
        "Sale amount: 25.00\n",
        "\n",
        "Customer's tax code: (choose one)\n",
        "\n",
        "\n",
        "\n",
        "*   0 : tax exempt (0%)\n",
        "*   1 : state sales tax (3%)\n",
        "*   2 : federal and state sales tax (5%)\n",
        "*   3 : special sales tax (7%)\n",
        "\n",
        "0\n",
        "\n",
        "tax_rate = 0 sales tax = 0 total = 100.00\n",
        "\n",
        "Akrem: \n",
        "\n",
        "Purchased amount: 100.00\n",
        "\n",
        "Sales tax: 0\n",
        "\n",
        "Total: 100.00\n",
        "```\n",
        "---\n",
        "\n"
      ]
    },
    {
      "cell_type": "markdown",
      "metadata": {
        "id": "8DLDVwnNoGIN"
      },
      "source": [
        "#### 4. Calculate employee's pay \n",
        "A program is required by a company to read an employee’s number, pay rate and the number of hours worked in a week. The program is then to validate the pay rate field and the hours worked field and, if valid, compute the employee’s weekly pay and then print it and the input data.\n",
        "\n",
        "Validation: According to the company’s rules, the maximum hours an employee can work per week is 60 hours, and the maximum hourly rate is $25.00 per hour. If the hours worked field or the hourly rate field is out of range, the input data and an appropriate message are to be printed and the employee’s weekly pay is not to be calculated.\n",
        "\n",
        "Weekly pay calculation: Weekly pay is calculated as hours worked times pay rate. If more than 35 hours are worked, payment for the overtime hours worked is calculated at time-and-a-half."
      ]
    },
    {
      "cell_type": "markdown",
      "metadata": {
        "id": "1Hl0EAWGoGIP"
      },
      "source": [
        "Input: Employee's number,pay rate, and number of hours worked in a week\n",
        "\n",
        "Output: Employee's week pay, employee's number, pay rate, and hours worked in a week \n",
        "\n",
        "Process: \n",
        "algorithm: validation = hours_worked is less than or equal to 60 hours and hourly_rate is less than or equal to $25 overtime_hours = 35 overtime_pay = overtime_hours * pay_rate * 1.5\n",
        "\n",
        "normal_hours = hours_worked or 35 (whichever is less) weekly pay = (normal_hours * pay_rate) + (overtime_hours * pay_rate * 1.5)\n",
        "\n",
        "\n",
        "\n",
        "---\n",
        "\n",
        "```\n",
        "BEGIN\n",
        "\n",
        "  Prompt user for employee number\n",
        "  Receive employee number\n",
        "  Prompt user for pay rate\n",
        "  Receive pay rate\n",
        "  Prompt user for number of hours worked\n",
        "  Receive number of hours worked\n",
        "\n",
        "  DO WHILE hours worked is more than 60\n",
        "    Prompt user to enter correct number of hours worked in a week\n",
        "    Get hours worked\n",
        "  ENDDO\n",
        "\n",
        "  DO WHILE pay rate is more than 25\n",
        "      Prompt user to enter pay rate\n",
        "      Receive pay rate\n",
        "  ENDDO\n",
        "\n",
        "  IF hours_worked is greater than 35 hours THEN\n",
        "      overtime_hours = hour worked - 35\n",
        "      overtime_pay = pay_rate * 1.5 * overtime_hours\n",
        "      regular_hours = 35\n",
        "  ELSEIF\n",
        "      overtime_hours = 0\n",
        "      overtime_pay = 0\n",
        "      regular_hours = hours worked\n",
        "  ENDIF\n",
        "\n",
        "  regular_pay = regular_hours * pay_rate\n",
        "  weekly_pay = (regular_hours * pay_rate) + (overtime_hours * 1.5 * pay_rate)\n",
        "  Display employee number, pay_rate, hours_worked, employee's_weekly_pay\n",
        "\n",
        "END\n",
        "\n",
        "#### test 1: 40hrs; $10/hr\n",
        "* overtime_hrs = 5\n",
        "* overtime_pay = 10 * 1.5 *5 = 75\n",
        "* regular_hours = 35\n",
        "* regular_pay = 35 * 10 = 350\n",
        "* week_pay = 350 + 75 = 425\n",
        "```\n",
        "\n",
        "\n"
      ]
    }
  ]
}