{
  "nbformat": 4,
  "nbformat_minor": 0,
  "metadata": {
    "kernelspec": {
      "display_name": "Python 3",
      "language": "python",
      "name": "python3"
    },
    "language_info": {
      "codemirror_mode": {
        "name": "ipython",
        "version": 3
      },
      "file_extension": ".py",
      "mimetype": "text/x-python",
      "name": "python",
      "nbconvert_exporter": "python",
      "pygments_lexer": "ipython3",
      "version": "3.7.6"
    },
    "colab": {
      "name": "Module5 Class Demo-Answers.ipynb",
      "provenance": []
    }
  },
  "cells": [
    {
      "cell_type": "markdown",
      "metadata": {
        "id": "QW7LCY20Rja6"
      },
      "source": [
        "## Exercise 1\n",
        "\n",
        "Ask a user for two numbers. Then \n",
        "1. generate 2 random numbers between 2 numbers provided by a user. \n",
        "2. compute two numbers' multiplication\n",
        "3. compute two numbers' division - round the result to the nearest 100th places (2 decimal places) using round() function. \n",
        "4. print out computation results using string format method. \n",
        "5. print out computation results using f-string\n"
      ]
    },
    {
      "cell_type": "code",
      "metadata": {
        "colab": {
          "base_uri": "https://localhost:8080/"
        },
        "id": "j-72spQdRjbC",
        "outputId": "795db4da-6b36-4498-a1c9-30aa4fdbd766"
      },
      "source": [
        "# Do you need to import any library?\n",
        "import random as rand\n",
        "\n",
        "\n",
        "# get two numbers from a user - what data type is it?\n",
        "numb1 = int(input(\"Pick first number: \"))\n",
        "numb2 = int(input(\"Pick second number: \"))"
      ],
      "execution_count": 1,
      "outputs": [
        {
          "output_type": "stream",
          "text": [
            "Pick first number: 5\n",
            "Pick second number: 10\n"
          ],
          "name": "stdout"
        }
      ]
    },
    {
      "cell_type": "code",
      "metadata": {
        "id": "qm5DjOqvRjbE"
      },
      "source": [
        "# generate two random numbers\n",
        "no1 = rand.randint(numb1, numb2)\n",
        "no2 = rand.randint(numb1, numb2)"
      ],
      "execution_count": 2,
      "outputs": []
    },
    {
      "cell_type": "code",
      "metadata": {
        "id": "7oJGcMENRjbF"
      },
      "source": [
        "# compute multipliction\n",
        "result1 = no1 * no2\n",
        "\n",
        "# compute division\n",
        "result2 = no1 / no2\n",
        "\n",
        "# Round the result to the nearest 100th places (2 decimal places) using round() function.\n",
        "result2 = round(result2, 2)"
      ],
      "execution_count": 3,
      "outputs": []
    },
    {
      "cell_type": "code",
      "metadata": {
        "id": "S-K1MVu2RjbG",
        "colab": {
          "base_uri": "https://localhost:8080/"
        },
        "outputId": "5c4039ea-a39a-4dad-f894-7126cfc20845"
      },
      "source": [
        "# print out computation results using string format method\n",
        "print(\"{} * {} = {:,}\".format(no1, no2, result1))\n",
        "print(\"{} / {} = {}\".format(no1, no2, result2))"
      ],
      "execution_count": 4,
      "outputs": [
        {
          "output_type": "stream",
          "text": [
            "8 * 9 = 72\n",
            "8 / 9 = 0.89\n"
          ],
          "name": "stdout"
        }
      ]
    },
    {
      "cell_type": "code",
      "metadata": {
        "id": "UzhAWRTzRjbH",
        "colab": {
          "base_uri": "https://localhost:8080/"
        },
        "outputId": "42a5dc4f-093e-4956-f021-21f8efddf991"
      },
      "source": [
        "# print out computation results using f-string\n",
        "print(f\"{no1} * {no2} = {result1:,}\")\n",
        "print(f\"{no1} / {no2} = {result2}\")"
      ],
      "execution_count": 5,
      "outputs": [
        {
          "output_type": "stream",
          "text": [
            "8 * 9 = 72\n",
            "8 / 9 = 0.89\n"
          ],
          "name": "stdout"
        }
      ]
    },
    {
      "cell_type": "code",
      "metadata": {
        "id": "_qUnHM53RjbI"
      },
      "source": [
        ""
      ],
      "execution_count": null,
      "outputs": []
    },
    {
      "cell_type": "markdown",
      "metadata": {
        "id": "beilsU_7RjbL"
      },
      "source": [
        "## Exercise 2\n",
        "Write a function called compute() to calculate an area and a perimeter of a rectangle.\n",
        "compute() function will be used in a program as below cell. Fix bugs and edit cells if needed.\n",
        "Run all necessary cells in order to show your function works.\n",
        "\n",
        "The output should be something like this:\n",
        "\n",
        "    Please enter length: 25\n",
        "    Please enter width: 10\n",
        "\n",
        "    Area is 250\n",
        "    Perimeter is 70"
      ]
    },
    {
      "cell_type": "code",
      "metadata": {
        "id": "m8Bo7ZpdRjbM"
      },
      "source": [
        "# write code for function called compute() here\n",
        "def compute(width, length) :\n",
        "    area = width * length\n",
        "    perimeter = 2 * (width + length)\n",
        "    print(f\"Area is {area}\")\n",
        "    print(f\"Perimeter is {perimeter}\")\n",
        "    "
      ],
      "execution_count": 6,
      "outputs": []
    },
    {
      "cell_type": "code",
      "metadata": {
        "id": "IFt6do7CRjbO",
        "colab": {
          "base_uri": "https://localhost:8080/"
        },
        "outputId": "440abd9b-db63-4ed3-b52e-0812c97b2315"
      },
      "source": [
        "# run this cell and fix any errors\n",
        "\n",
        "print(\"The Area and Perimeter Program\")  \n",
        "\n",
        "length = int(input(\"Please enter length: \"))\n",
        "width = int(input(\"Please enter width: \"))\n",
        "\n",
        "print(\"\")\n",
        "compute(width, length)\n",
        "compute(length, width)"
      ],
      "execution_count": 7,
      "outputs": [
        {
          "output_type": "stream",
          "text": [
            "The Area and Perimeter Program\n",
            "Please enter length: 25\n",
            "Please enter width: 10\n",
            "\n",
            "Area is 250\n",
            "Perimeter is 70\n",
            "Area is 250\n",
            "Perimeter is 70\n"
          ],
          "name": "stdout"
        }
      ]
    },
    {
      "cell_type": "markdown",
      "metadata": {
        "id": "q-A9qwq3RjbP"
      },
      "source": [
        "## Exercise 3\n",
        "Write a lambda function to convert an integer to a binary number. <br>\n",
        "Show that your lambda function works, using int() function."
      ]
    },
    {
      "cell_type": "code",
      "metadata": {
        "id": "ZYuNCMMwRjbQ",
        "colab": {
          "base_uri": "https://localhost:8080/"
        },
        "outputId": "0eb7a554-34f1-4a68-cf50-e3132a3fdd97"
      },
      "source": [
        "#  lambda function definition\n",
        "bi = lambda a : bin(a)\n",
        "print(bi(10))"
      ],
      "execution_count": 8,
      "outputs": [
        {
          "output_type": "stream",
          "text": [
            "0b1010\n"
          ],
          "name": "stdout"
        }
      ]
    },
    {
      "cell_type": "code",
      "metadata": {
        "id": "1AKL2PlPRjbR",
        "colab": {
          "base_uri": "https://localhost:8080/"
        },
        "outputId": "ef16c36e-635e-4235-fce5-687a45fccf58"
      },
      "source": [
        "# confirm, using int() function\n",
        "int(str(bi(10)), 2)"
      ],
      "execution_count": 9,
      "outputs": [
        {
          "output_type": "execute_result",
          "data": {
            "text/plain": [
              "10"
            ]
          },
          "metadata": {},
          "execution_count": 9
        }
      ]
    },
    {
      "cell_type": "code",
      "metadata": {
        "id": "g0Ooc8XQRjbR"
      },
      "source": [
        ""
      ],
      "execution_count": null,
      "outputs": []
    }
  ]
}