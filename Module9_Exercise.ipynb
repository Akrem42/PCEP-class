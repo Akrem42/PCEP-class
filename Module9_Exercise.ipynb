{
  "nbformat": 4,
  "nbformat_minor": 0,
  "metadata": {
    "kernelspec": {
      "display_name": "Python 3",
      "language": "python",
      "name": "python3"
    },
    "language_info": {
      "codemirror_mode": {
        "name": "ipython",
        "version": 3
      },
      "file_extension": ".py",
      "mimetype": "text/x-python",
      "name": "python",
      "nbconvert_exporter": "python",
      "pygments_lexer": "ipython3",
      "version": "3.7.6"
    },
    "colab": {
      "name": "Module9 Exercise.ipynb",
      "provenance": [],
      "collapsed_sections": []
    }
  },
  "cells": [
    {
      "cell_type": "markdown",
      "metadata": {
        "id": "3DLYVyRF6d_V"
      },
      "source": [
        "### Exercise 1. \n",
        "Create a dictionary named pairs with key value pairs of:\n",
        "    - 'hello' and 'fire', \n",
        "    - 3 and 'seven', \n",
        "    - 'strong' and 45. \n",
        "\n",
        "Then, print out the dictionary."
      ]
    },
    {
      "cell_type": "code",
      "metadata": {
        "colab": {
          "base_uri": "https://localhost:8080/"
        },
        "id": "W8OxUaw96d_b",
        "outputId": "6e573687-adf7-4c52-c0ba-320deb8af363"
      },
      "source": [
        "pairs = {\"hello\": \"fire\",3 : \"seven\", \"strong\" : 45}\n",
        "print(pairs)"
      ],
      "execution_count": 1,
      "outputs": [
        {
          "output_type": "stream",
          "text": [
            "{'hello': 'fire', 3: 'seven', 'strong': 45}\n"
          ],
          "name": "stdout"
        }
      ]
    },
    {
      "cell_type": "markdown",
      "metadata": {
        "id": "BOp71Zsc6d_d"
      },
      "source": [
        "### Exercise 2. \n",
        "Add 'welcome' and 56 pair into <b><i>pairs</i></b> dictionary from exercise 1. Then, print out the dictionary. "
      ]
    },
    {
      "cell_type": "code",
      "metadata": {
        "colab": {
          "base_uri": "https://localhost:8080/"
        },
        "id": "LoGom6BD6d_e",
        "outputId": "4f595b01-4650-4636-baf5-c13ef839bda2"
      },
      "source": [
        "pairs[\"welcome\"] = 56\n",
        "print(pairs)"
      ],
      "execution_count": 2,
      "outputs": [
        {
          "output_type": "stream",
          "text": [
            "{'hello': 'fire', 3: 'seven', 'strong': 45, 'welcome': 56}\n"
          ],
          "name": "stdout"
        }
      ]
    },
    {
      "cell_type": "markdown",
      "metadata": {
        "id": "AypzhYiT6d_f"
      },
      "source": [
        "### Exercise 3. \n",
        "Delete one item from <b><i>pairs</i></b> dictionary. Then, print deleted item and the dictionary."
      ]
    },
    {
      "cell_type": "code",
      "metadata": {
        "colab": {
          "base_uri": "https://localhost:8080/"
        },
        "id": "asc2IWCp6d_h",
        "outputId": "5947c308-58d0-48cf-aa63-2e80739b96d1"
      },
      "source": [
        "item = pairs.popitem()\n",
        "print(item)\n",
        "print(pairs)"
      ],
      "execution_count": 3,
      "outputs": [
        {
          "output_type": "stream",
          "text": [
            "('welcome', 56)\n",
            "{'hello': 'fire', 3: 'seven', 'strong': 45}\n"
          ],
          "name": "stdout"
        }
      ]
    },
    {
      "cell_type": "markdown",
      "metadata": {
        "id": "re3IlIns6d_i"
      },
      "source": [
        "### Exercise 4. \n",
        "Print the value of an item where key is 3 in <b><i>pairs</i></b> dicitonary"
      ]
    },
    {
      "cell_type": "code",
      "metadata": {
        "colab": {
          "base_uri": "https://localhost:8080/"
        },
        "id": "qOnTPQFw6d_k",
        "outputId": "ab30c193-d7bb-463a-ad92-be3d311977c3"
      },
      "source": [
        "item = pairs[3]\n",
        "print(item)\n",
        "print(pairs)"
      ],
      "execution_count": 4,
      "outputs": [
        {
          "output_type": "stream",
          "text": [
            "seven\n",
            "{'hello': 'fire', 3: 'seven', 'strong': 45}\n"
          ],
          "name": "stdout"
        }
      ]
    },
    {
      "cell_type": "markdown",
      "metadata": {
        "id": "KPeG7O8J6d_l"
      },
      "source": [
        "### Exercise 5. \n",
        "Try to find out if the key called 'hello' exist in <b><i>pairs</i></b> dictionary. Print 'key is found' message if the key exists otherwise print 'key is not there'."
      ]
    },
    {
      "cell_type": "code",
      "metadata": {
        "colab": {
          "base_uri": "https://localhost:8080/"
        },
        "id": "wYCDpRjU6d_n",
        "outputId": "8ca3ed7e-dd83-4a15-b6b6-b011d105058d"
      },
      "source": [
        "if \"hello\" in pairs :\n",
        "  print(\"Key is found\")\n",
        "else :\n",
        "    print(\"Key is not there\")  "
      ],
      "execution_count": 5,
      "outputs": [
        {
          "output_type": "stream",
          "text": [
            "Key is found\n"
          ],
          "name": "stdout"
        }
      ]
    },
    {
      "cell_type": "markdown",
      "metadata": {
        "id": "xKf1KczR6d_u"
      },
      "source": [
        "### Exercise 6. \n",
        "Create a Test Scores program that gets the name of students and test score from a user. Then, generate a list of students who passed and a list of students who failed where passing test score is 60 or above. "
      ]
    },
    {
      "cell_type": "code",
      "metadata": {
        "colab": {
          "base_uri": "https://localhost:8080/"
        },
        "id": "M_TSsgs26d_v",
        "outputId": "8f5e3e40-06c4-49ec-8c50-11224bc9e0f8"
      },
      "source": [
        "passed = []\n",
        "failed = []\n",
        "students = {}\n",
        "\n",
        "stop = False\n",
        "while not stop :\n",
        "        student = input(\"Enter student's name: \")\n",
        "        score = input(\"Enter student's score: \")\n",
        "        students[student] = float(score)\n",
        "        stop = input(\"Do you want to continue?(y/n)\") == 'n'\n",
        "\n",
        "\n",
        "\n",
        "for key,value in students.items() :\n",
        "    if value >= 60 :\n",
        "        passed.append(key)\n",
        "    else :\n",
        "        failed.append(key)\n",
        "        \n",
        "print(students)   \n",
        "print(f\"\\nPassed Students are {passed}\")\n",
        "print(f\"\\nFailed Students are {failed}\")"
      ],
      "execution_count": 8,
      "outputs": [
        {
          "output_type": "stream",
          "text": [
            "Enter student's name: Akrem\n",
            "Enter student's score: 75\n",
            "Do you want to continue?(y/n)n\n",
            "{'Akrem': 75.0}\n",
            "\n",
            "Passed Students are ['Akrem']\n",
            "\n",
            "Failed Students are []\n"
          ],
          "name": "stdout"
        }
      ]
    },
    {
      "cell_type": "code",
      "metadata": {
        "id": "kI-1m_pY6d_w"
      },
      "source": [
        ""
      ],
      "execution_count": null,
      "outputs": []
    },
    {
      "cell_type": "markdown",
      "metadata": {
        "id": "LMdPotjc6d_x"
      },
      "source": [
        "### Exercise 7. \n",
        "\n",
        "Create a Word Counter program that gets a string of text from a user and then counts the number of times a word occrs in the string. \n",
        "\n",
        "The output should look something like this:\n",
        "\n",
        "    The Word Counter Program\n",
        "    \n",
        "    Enter a text string: \n",
        "    Humpty Dumpty sat on a wall, Humpty Dumpty had a great fall. All the king’s horses and all the king’s men couldn’t put Humpty together again.\n",
        "\n",
        "    a : 2\n",
        "    again : 1\n",
        "    all : 2\n",
        "    and : 1\n",
        "    couldn’t : 1\n",
        "    dumpty : 2\n",
        "    fall : 1\n",
        "    great : 1\n",
        "    had : 1\n",
        "    horses : 1\n",
        "    humpty : 3\n",
        "    king’s : 2\n",
        "    men : 1\n",
        "    on : 1\n",
        "    put : 1\n",
        "    sat : 1\n",
        "    the : 2\n",
        "    together : 1\n",
        "    wall : 1\n",
        "\n",
        "    There were total 26 words in the text string   "
      ]
    },
    {
      "cell_type": "code",
      "metadata": {
        "id": "36LC2dHx6d_y"
      },
      "source": [
        ""
      ],
      "execution_count": null,
      "outputs": []
    },
    {
      "cell_type": "code",
      "metadata": {
        "id": "gDImu4ss6d_z"
      },
      "source": [
        ""
      ],
      "execution_count": null,
      "outputs": []
    }
  ]
}